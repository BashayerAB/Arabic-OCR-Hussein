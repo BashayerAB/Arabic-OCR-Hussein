{
  "nbformat": 4,
  "nbformat_minor": 0,
  "metadata": {
    "colab": {
      "provenance": [],
      "gpuType": "L4",
      "authorship_tag": "ABX9TyOGAkNfcictUpWQ7TybBBan",
      "include_colab_link": true
    },
    "kernelspec": {
      "name": "python3",
      "display_name": "Python 3"
    },
    "language_info": {
      "name": "python"
    },
    "widgets": {
      "application/vnd.jupyter.widget-state+json": {
        "f26c9a782e40417caa4056c29e8a6da2": {
          "model_module": "@jupyter-widgets/controls",
          "model_name": "HBoxModel",
          "model_module_version": "1.5.0",
          "state": {
            "_dom_classes": [],
            "_model_module": "@jupyter-widgets/controls",
            "_model_module_version": "1.5.0",
            "_model_name": "HBoxModel",
            "_view_count": null,
            "_view_module": "@jupyter-widgets/controls",
            "_view_module_version": "1.5.0",
            "_view_name": "HBoxView",
            "box_style": "",
            "children": [
              "IPY_MODEL_6dbb0b11dab7413983e9c04ecc7ae8be",
              "IPY_MODEL_6fbccced5c0a41ada65fdbe4063d747a",
              "IPY_MODEL_380ac176dfe9475ca01294a38a0a8e60"
            ],
            "layout": "IPY_MODEL_6f9b930a6aed45e5ac0dcb419a9e22f1"
          }
        },
        "6dbb0b11dab7413983e9c04ecc7ae8be": {
          "model_module": "@jupyter-widgets/controls",
          "model_name": "HTMLModel",
          "model_module_version": "1.5.0",
          "state": {
            "_dom_classes": [],
            "_model_module": "@jupyter-widgets/controls",
            "_model_module_version": "1.5.0",
            "_model_name": "HTMLModel",
            "_view_count": null,
            "_view_module": "@jupyter-widgets/controls",
            "_view_module_version": "1.5.0",
            "_view_name": "HTMLView",
            "description": "",
            "description_tooltip": null,
            "layout": "IPY_MODEL_701301f1f48a47d7b4ee651dab55e214",
            "placeholder": "​",
            "style": "IPY_MODEL_90e7db91cf7a4f3096872ec77875aa73",
            "value": "100%"
          }
        },
        "6fbccced5c0a41ada65fdbe4063d747a": {
          "model_module": "@jupyter-widgets/controls",
          "model_name": "FloatProgressModel",
          "model_module_version": "1.5.0",
          "state": {
            "_dom_classes": [],
            "_model_module": "@jupyter-widgets/controls",
            "_model_module_version": "1.5.0",
            "_model_name": "FloatProgressModel",
            "_view_count": null,
            "_view_module": "@jupyter-widgets/controls",
            "_view_module_version": "1.5.0",
            "_view_name": "ProgressView",
            "bar_style": "success",
            "description": "",
            "description_tooltip": null,
            "layout": "IPY_MODEL_74cd5082886d4bdc9f53d5eb6748739c",
            "max": 30,
            "min": 0,
            "orientation": "horizontal",
            "style": "IPY_MODEL_7e1248b3c10c47d8b5bd10bc1046a041",
            "value": 30
          }
        },
        "380ac176dfe9475ca01294a38a0a8e60": {
          "model_module": "@jupyter-widgets/controls",
          "model_name": "HTMLModel",
          "model_module_version": "1.5.0",
          "state": {
            "_dom_classes": [],
            "_model_module": "@jupyter-widgets/controls",
            "_model_module_version": "1.5.0",
            "_model_name": "HTMLModel",
            "_view_count": null,
            "_view_module": "@jupyter-widgets/controls",
            "_view_module_version": "1.5.0",
            "_view_name": "HTMLView",
            "description": "",
            "description_tooltip": null,
            "layout": "IPY_MODEL_0009f88809e94bba9e5596edb165ebf8",
            "placeholder": "​",
            "style": "IPY_MODEL_aeac5d0ee49947668d8547239273cb65",
            "value": " 30/30 [59:59&lt;00:00, 119.86s/it]"
          }
        },
        "6f9b930a6aed45e5ac0dcb419a9e22f1": {
          "model_module": "@jupyter-widgets/base",
          "model_name": "LayoutModel",
          "model_module_version": "1.2.0",
          "state": {
            "_model_module": "@jupyter-widgets/base",
            "_model_module_version": "1.2.0",
            "_model_name": "LayoutModel",
            "_view_count": null,
            "_view_module": "@jupyter-widgets/base",
            "_view_module_version": "1.2.0",
            "_view_name": "LayoutView",
            "align_content": null,
            "align_items": null,
            "align_self": null,
            "border": null,
            "bottom": null,
            "display": null,
            "flex": null,
            "flex_flow": null,
            "grid_area": null,
            "grid_auto_columns": null,
            "grid_auto_flow": null,
            "grid_auto_rows": null,
            "grid_column": null,
            "grid_gap": null,
            "grid_row": null,
            "grid_template_areas": null,
            "grid_template_columns": null,
            "grid_template_rows": null,
            "height": null,
            "justify_content": null,
            "justify_items": null,
            "left": null,
            "margin": null,
            "max_height": null,
            "max_width": null,
            "min_height": null,
            "min_width": null,
            "object_fit": null,
            "object_position": null,
            "order": null,
            "overflow": null,
            "overflow_x": null,
            "overflow_y": null,
            "padding": null,
            "right": null,
            "top": null,
            "visibility": null,
            "width": null
          }
        },
        "701301f1f48a47d7b4ee651dab55e214": {
          "model_module": "@jupyter-widgets/base",
          "model_name": "LayoutModel",
          "model_module_version": "1.2.0",
          "state": {
            "_model_module": "@jupyter-widgets/base",
            "_model_module_version": "1.2.0",
            "_model_name": "LayoutModel",
            "_view_count": null,
            "_view_module": "@jupyter-widgets/base",
            "_view_module_version": "1.2.0",
            "_view_name": "LayoutView",
            "align_content": null,
            "align_items": null,
            "align_self": null,
            "border": null,
            "bottom": null,
            "display": null,
            "flex": null,
            "flex_flow": null,
            "grid_area": null,
            "grid_auto_columns": null,
            "grid_auto_flow": null,
            "grid_auto_rows": null,
            "grid_column": null,
            "grid_gap": null,
            "grid_row": null,
            "grid_template_areas": null,
            "grid_template_columns": null,
            "grid_template_rows": null,
            "height": null,
            "justify_content": null,
            "justify_items": null,
            "left": null,
            "margin": null,
            "max_height": null,
            "max_width": null,
            "min_height": null,
            "min_width": null,
            "object_fit": null,
            "object_position": null,
            "order": null,
            "overflow": null,
            "overflow_x": null,
            "overflow_y": null,
            "padding": null,
            "right": null,
            "top": null,
            "visibility": null,
            "width": null
          }
        },
        "90e7db91cf7a4f3096872ec77875aa73": {
          "model_module": "@jupyter-widgets/controls",
          "model_name": "DescriptionStyleModel",
          "model_module_version": "1.5.0",
          "state": {
            "_model_module": "@jupyter-widgets/controls",
            "_model_module_version": "1.5.0",
            "_model_name": "DescriptionStyleModel",
            "_view_count": null,
            "_view_module": "@jupyter-widgets/base",
            "_view_module_version": "1.2.0",
            "_view_name": "StyleView",
            "description_width": ""
          }
        },
        "74cd5082886d4bdc9f53d5eb6748739c": {
          "model_module": "@jupyter-widgets/base",
          "model_name": "LayoutModel",
          "model_module_version": "1.2.0",
          "state": {
            "_model_module": "@jupyter-widgets/base",
            "_model_module_version": "1.2.0",
            "_model_name": "LayoutModel",
            "_view_count": null,
            "_view_module": "@jupyter-widgets/base",
            "_view_module_version": "1.2.0",
            "_view_name": "LayoutView",
            "align_content": null,
            "align_items": null,
            "align_self": null,
            "border": null,
            "bottom": null,
            "display": null,
            "flex": null,
            "flex_flow": null,
            "grid_area": null,
            "grid_auto_columns": null,
            "grid_auto_flow": null,
            "grid_auto_rows": null,
            "grid_column": null,
            "grid_gap": null,
            "grid_row": null,
            "grid_template_areas": null,
            "grid_template_columns": null,
            "grid_template_rows": null,
            "height": null,
            "justify_content": null,
            "justify_items": null,
            "left": null,
            "margin": null,
            "max_height": null,
            "max_width": null,
            "min_height": null,
            "min_width": null,
            "object_fit": null,
            "object_position": null,
            "order": null,
            "overflow": null,
            "overflow_x": null,
            "overflow_y": null,
            "padding": null,
            "right": null,
            "top": null,
            "visibility": null,
            "width": null
          }
        },
        "7e1248b3c10c47d8b5bd10bc1046a041": {
          "model_module": "@jupyter-widgets/controls",
          "model_name": "ProgressStyleModel",
          "model_module_version": "1.5.0",
          "state": {
            "_model_module": "@jupyter-widgets/controls",
            "_model_module_version": "1.5.0",
            "_model_name": "ProgressStyleModel",
            "_view_count": null,
            "_view_module": "@jupyter-widgets/base",
            "_view_module_version": "1.2.0",
            "_view_name": "StyleView",
            "bar_color": null,
            "description_width": ""
          }
        },
        "0009f88809e94bba9e5596edb165ebf8": {
          "model_module": "@jupyter-widgets/base",
          "model_name": "LayoutModel",
          "model_module_version": "1.2.0",
          "state": {
            "_model_module": "@jupyter-widgets/base",
            "_model_module_version": "1.2.0",
            "_model_name": "LayoutModel",
            "_view_count": null,
            "_view_module": "@jupyter-widgets/base",
            "_view_module_version": "1.2.0",
            "_view_name": "LayoutView",
            "align_content": null,
            "align_items": null,
            "align_self": null,
            "border": null,
            "bottom": null,
            "display": null,
            "flex": null,
            "flex_flow": null,
            "grid_area": null,
            "grid_auto_columns": null,
            "grid_auto_flow": null,
            "grid_auto_rows": null,
            "grid_column": null,
            "grid_gap": null,
            "grid_row": null,
            "grid_template_areas": null,
            "grid_template_columns": null,
            "grid_template_rows": null,
            "height": null,
            "justify_content": null,
            "justify_items": null,
            "left": null,
            "margin": null,
            "max_height": null,
            "max_width": null,
            "min_height": null,
            "min_width": null,
            "object_fit": null,
            "object_position": null,
            "order": null,
            "overflow": null,
            "overflow_x": null,
            "overflow_y": null,
            "padding": null,
            "right": null,
            "top": null,
            "visibility": null,
            "width": null
          }
        },
        "aeac5d0ee49947668d8547239273cb65": {
          "model_module": "@jupyter-widgets/controls",
          "model_name": "DescriptionStyleModel",
          "model_module_version": "1.5.0",
          "state": {
            "_model_module": "@jupyter-widgets/controls",
            "_model_module_version": "1.5.0",
            "_model_name": "DescriptionStyleModel",
            "_view_count": null,
            "_view_module": "@jupyter-widgets/base",
            "_view_module_version": "1.2.0",
            "_view_name": "StyleView",
            "description_width": ""
          }
        }
      }
    },
    "accelerator": "GPU"
  },
  "cells": [
    {
      "cell_type": "markdown",
      "metadata": {
        "id": "view-in-github",
        "colab_type": "text"
      },
      "source": [
        "<a href=\"https://colab.research.google.com/github/BashayerAB/Arabic-OCR-Hussein/blob/master/RNN_EffNet_Code.ipynb\" target=\"_parent\"><img src=\"https://colab.research.google.com/assets/colab-badge.svg\" alt=\"Open In Colab\"/></a>"
      ]
    },
    {
      "cell_type": "markdown",
      "source": [
        "Hijaa is a dataset for handwritten Arabic letters collected from Arabic-speaking schoolchildren between the ages of 7 and 12. Data were collected in Riyadh, Saudi Arabia, from January to April, 2019. It represents a total of 47,434 characters written by 591 participants in different forms.\n",
        "\n",
        "The dataset is organized into 29 folders, each corresponding to an Arabic letter, with one folder for “hamza”. Each folder contains subfolders of the various letter forms for each letter. Each subfolder contains the images for that particular letter form. Vocalization diacritics that mark vowels and other sounds that cannot be represented by Arabic letters (harakat) are not included in our dataset."
      ],
      "metadata": {
        "id": "NrCYNGkiA13Y"
      }
    },
    {
      "cell_type": "code",
      "source": [
        "import torch\n",
        "import requests\n",
        "import zipfile\n",
        "import os\n",
        "import shutil\n",
        "import random\n",
        "import pathlib\n",
        "import pandas as pd\n",
        "import numpy as np\n",
        "import torchvision\n",
        "import torchvision.transforms as transforms\n",
        "from torchvision.datasets import ImageFolder\n",
        "import matplotlib.pyplot as plt\n",
        "\n",
        "from PIL import Image\n",
        "from torch.utils.data import Dataset\n",
        "from torchvision import transforms\n",
        "from typing import Tuple, Dict, List\n",
        "from torch import nn\n",
        "from torch.utils.data import DataLoader\n",
        "from torchvision import datasets, transforms, utils\n",
        "from pathlib import Path\n",
        "from torch.utils.data.sampler import SubsetRandomSampler\n",
        "import torchvision.models as models\n",
        "from sklearn.metrics import accuracy_score, precision_score, recall_score, f1_score\n",
        "import torch.optim as optim\n",
        "from tqdm.auto import tqdm\n",
        "# Lets check Pytorch version\n",
        "#torch.__version__"
      ],
      "metadata": {
        "id": "DNWXoh4VE8ep"
      },
      "execution_count": 1,
      "outputs": []
    },
    {
      "cell_type": "code",
      "source": [
        "# Try to get torchinfo, install it if it doesn't work\n",
        "try:\n",
        "    from torchinfo import summary\n",
        "except:\n",
        "    print(\"[INFO] Couldn't find torchinfo... installing it.\")\n",
        "    !pip install -q torchinfo\n",
        "    from torchinfo import summary\n",
        "\n",
        "# Try to import the going_modular directory, download it from GitHub if it doesn't work\n",
        "try:\n",
        "    from going_modular.going_modular import data_setup, engine\n",
        "except:\n",
        "    # Get the going_modular scripts\n",
        "    print(\"[INFO] Couldn't find going_modular scripts... downloading them from GitHub.\")\n",
        "    !git clone https://github.com/mrdbourke/pytorch-deep-learning\n",
        "    !mv pytorch-deep-learning/going_modular .\n",
        "    !rm -rf pytorch-deep-learning\n",
        "    from going_modular.going_modular import data_setup, engine"
      ],
      "metadata": {
        "id": "HXW8xu3dFR7Q",
        "colab": {
          "base_uri": "https://localhost:8080/"
        },
        "outputId": "b032e22f-2829-4076-8844-2c0a802f1ef2"
      },
      "execution_count": 2,
      "outputs": [
        {
          "output_type": "stream",
          "name": "stdout",
          "text": [
            "[INFO] Couldn't find torchinfo... installing it.\n",
            "[INFO] Couldn't find going_modular scripts... downloading them from GitHub.\n",
            "Cloning into 'pytorch-deep-learning'...\n",
            "remote: Enumerating objects: 4356, done.\u001b[K\n",
            "remote: Counting objects: 100% (185/185), done.\u001b[K\n",
            "remote: Compressing objects: 100% (66/66), done.\u001b[K\n",
            "remote: Total 4356 (delta 154), reused 119 (delta 119), pack-reused 4171 (from 3)\u001b[K\n",
            "Receiving objects: 100% (4356/4356), 654.37 MiB | 17.25 MiB/s, done.\n",
            "Resolving deltas: 100% (2583/2583), done.\n",
            "Updating files: 100% (248/248), done.\n"
          ]
        }
      ]
    },
    {
      "cell_type": "code",
      "source": [
        "!git clone https://github.com/daadturki1/Dhad.git"
      ],
      "metadata": {
        "colab": {
          "base_uri": "https://localhost:8080/"
        },
        "id": "2Ch8ShYEnef-",
        "outputId": "d51fe543-4755-4d1c-9ea2-ab6a3f812cf1"
      },
      "execution_count": 3,
      "outputs": [
        {
          "output_type": "stream",
          "name": "stdout",
          "text": [
            "Cloning into 'Dhad'...\n",
            "remote: Enumerating objects: 56170, done.\u001b[K\n",
            "remote: Counting objects: 100% (9930/9930), done.\u001b[K\n",
            "remote: Compressing objects: 100% (9918/9918), done.\u001b[K\n",
            "remote: Total 56170 (delta 9), reused 9930 (delta 9), pack-reused 46240 (from 1)\u001b[K\n",
            "Receiving objects: 100% (56170/56170), 48.66 MiB | 16.18 MiB/s, done.\n",
            "Resolving deltas: 100% (13/13), done.\n",
            "Updating files: 100% (56075/56075), done.\n"
          ]
        }
      ]
    },
    {
      "cell_type": "code",
      "source": [],
      "metadata": {
        "id": "JsAjgcTt-J2t"
      },
      "execution_count": null,
      "outputs": []
    },
    {
      "cell_type": "code",
      "source": [
        "!git clone https://github.com/HusseinYoussef/Arabic-OCR.git"
      ],
      "metadata": {
        "colab": {
          "base_uri": "https://localhost:8080/"
        },
        "id": "Mqnk8AJLocZx",
        "outputId": "af913f77-c5cf-4ac3-8d5f-5a8b1fad8ffc"
      },
      "execution_count": 4,
      "outputs": [
        {
          "output_type": "stream",
          "name": "stdout",
          "text": [
            "Cloning into 'Arabic-OCR'...\n",
            "remote: Enumerating objects: 272, done.\u001b[K\n",
            "remote: Counting objects: 100% (265/265), done.\u001b[K\n",
            "remote: Compressing objects: 100% (135/135), done.\u001b[K\n",
            "remote: Total 272 (delta 130), reused 245 (delta 121), pack-reused 7 (from 1)\u001b[K\n",
            "Receiving objects: 100% (272/272), 13.04 MiB | 11.45 MiB/s, done.\n",
            "Resolving deltas: 100% (130/130), done.\n"
          ]
        }
      ]
    },
    {
      "cell_type": "code",
      "source": [
        "cd Arabic-OCR/src"
      ],
      "metadata": {
        "colab": {
          "base_uri": "https://localhost:8080/"
        },
        "id": "tIrbB8s_or4b",
        "outputId": "a8362ee1-a8ac-4372-a0fb-ad4f99c4b592"
      },
      "execution_count": 5,
      "outputs": [
        {
          "output_type": "stream",
          "name": "stdout",
          "text": [
            "/content/Arabic-OCR/src\n"
          ]
        }
      ]
    },
    {
      "cell_type": "code",
      "source": [
        "!pip install -r /content/Arabic-OCR/requirements.txt"
      ],
      "metadata": {
        "colab": {
          "base_uri": "https://localhost:8080/"
        },
        "id": "9qv1TcoFotkQ",
        "outputId": "ecce24bb-0638-49ef-a3dd-f78f206655a4"
      },
      "execution_count": 6,
      "outputs": [
        {
          "output_type": "stream",
          "name": "stdout",
          "text": [
            "Collecting cycler==0.10.0 (from -r /content/Arabic-OCR/requirements.txt (line 1))\n",
            "  Downloading cycler-0.10.0-py2.py3-none-any.whl.metadata (722 bytes)\n",
            "Collecting decorator==5.0.3 (from -r /content/Arabic-OCR/requirements.txt (line 2))\n",
            "  Downloading decorator-5.0.3-py3-none-any.whl.metadata (3.9 kB)\n",
            "Collecting editdistance==0.5.3 (from -r /content/Arabic-OCR/requirements.txt (line 3))\n",
            "  Downloading editdistance-0.5.3.tar.gz (27 kB)\n",
            "  Preparing metadata (setup.py) ... \u001b[?25l\u001b[?25hdone\n",
            "Collecting imageio==2.9.0 (from -r /content/Arabic-OCR/requirements.txt (line 4))\n",
            "  Downloading imageio-2.9.0-py3-none-any.whl.metadata (2.6 kB)\n",
            "Collecting joblib==1.2.0 (from -r /content/Arabic-OCR/requirements.txt (line 5))\n",
            "  Downloading joblib-1.2.0-py3-none-any.whl.metadata (5.3 kB)\n",
            "Collecting kiwisolver==1.3.1 (from -r /content/Arabic-OCR/requirements.txt (line 6))\n",
            "  Downloading kiwisolver-1.3.1.tar.gz (53 kB)\n",
            "\u001b[2K     \u001b[90m━━━━━━━━━━━━━━━━━━━━━━━━━━━━━━━━━━━━━━━━\u001b[0m \u001b[32m53.1/53.1 kB\u001b[0m \u001b[31m5.3 MB/s\u001b[0m eta \u001b[36m0:00:00\u001b[0m\n",
            "\u001b[?25h  Preparing metadata (setup.py) ... \u001b[?25l\u001b[?25hdone\n",
            "Collecting networkx==2.5 (from -r /content/Arabic-OCR/requirements.txt (line 7))\n",
            "  Downloading networkx-2.5-py3-none-any.whl.metadata (4.9 kB)\n",
            "Collecting numpy==1.22.0 (from -r /content/Arabic-OCR/requirements.txt (line 8))\n",
            "  Downloading numpy-1.22.0-cp310-cp310-manylinux_2_17_x86_64.manylinux2014_x86_64.whl.metadata (2.0 kB)\n",
            "Collecting opencv-python==4.5.1.48 (from -r /content/Arabic-OCR/requirements.txt (line 9))\n",
            "  Downloading opencv-python-4.5.1.48.tar.gz (88.3 MB)\n",
            "\u001b[2K     \u001b[90m━━━━━━━━━━━━━━━━━━━━━━━━━━━━━━━━━━━━━━━━\u001b[0m \u001b[32m88.3/88.3 MB\u001b[0m \u001b[31m25.9 MB/s\u001b[0m eta \u001b[36m0:00:00\u001b[0m\n",
            "\u001b[?25h  \u001b[1;31merror\u001b[0m: \u001b[1msubprocess-exited-with-error\u001b[0m\n",
            "  \n",
            "  \u001b[31m×\u001b[0m \u001b[32mpip subprocess to install build dependencies\u001b[0m did not run successfully.\n",
            "  \u001b[31m│\u001b[0m exit code: \u001b[1;36m1\u001b[0m\n",
            "  \u001b[31m╰─>\u001b[0m See above for output.\n",
            "  \n",
            "  \u001b[1;35mnote\u001b[0m: This error originates from a subprocess, and is likely not a problem with pip.\n",
            "  Installing build dependencies ... \u001b[?25l\u001b[?25herror\n",
            "\u001b[1;31merror\u001b[0m: \u001b[1msubprocess-exited-with-error\u001b[0m\n",
            "\n",
            "\u001b[31m×\u001b[0m \u001b[32mpip subprocess to install build dependencies\u001b[0m did not run successfully.\n",
            "\u001b[31m│\u001b[0m exit code: \u001b[1;36m1\u001b[0m\n",
            "\u001b[31m╰─>\u001b[0m See above for output.\n",
            "\n",
            "\u001b[1;35mnote\u001b[0m: This error originates from a subprocess, and is likely not a problem with pip.\n"
          ]
        }
      ]
    },
    {
      "cell_type": "code",
      "source": [
        "!git clone https://github.com/HusseinYoussef/Arabic-OCR.git"
      ],
      "metadata": {
        "colab": {
          "base_uri": "https://localhost:8080/"
        },
        "outputId": "a199919e-62fc-4e98-e670-400c52cbf3e1",
        "id": "GyQmuR9R-kaC"
      },
      "execution_count": null,
      "outputs": [
        {
          "output_type": "stream",
          "name": "stdout",
          "text": [
            "Cloning into 'Arabic-OCR'...\n",
            "remote: Enumerating objects: 272, done.\u001b[K\n",
            "remote: Counting objects: 100% (265/265), done.\u001b[K\n",
            "remote: Compressing objects: 100% (135/135), done.\u001b[K\n",
            "remote: Total 272 (delta 130), reused 245 (delta 121), pack-reused 7 (from 1)\u001b[K\n",
            "Receiving objects: 100% (272/272), 13.04 MiB | 18.35 MiB/s, done.\n",
            "Resolving deltas: 100% (130/130), done.\n"
          ]
        }
      ]
    },
    {
      "cell_type": "code",
      "source": [
        "cd Arabic-OCR/src"
      ],
      "metadata": {
        "colab": {
          "base_uri": "https://localhost:8080/"
        },
        "outputId": "25268400-c90a-4e2f-ffe8-531d6ad035dd",
        "id": "J-bMVju8-kaD"
      },
      "execution_count": null,
      "outputs": [
        {
          "output_type": "stream",
          "name": "stdout",
          "text": [
            "/content/Arabic-OCR/src\n"
          ]
        }
      ]
    },
    {
      "cell_type": "code",
      "source": [
        "!pip install -r /content/Arabic-OCR/requirements.txt"
      ],
      "metadata": {
        "colab": {
          "base_uri": "https://localhost:8080/"
        },
        "outputId": "deb4892d-7075-4111-f27c-10764af0cc74",
        "id": "uN-kfrNg-kaE"
      },
      "execution_count": null,
      "outputs": [
        {
          "output_type": "stream",
          "name": "stdout",
          "text": [
            "Collecting cycler==0.10.0 (from -r /content/Arabic-OCR/requirements.txt (line 1))\n",
            "  Downloading cycler-0.10.0-py2.py3-none-any.whl.metadata (722 bytes)\n",
            "Collecting decorator==5.0.3 (from -r /content/Arabic-OCR/requirements.txt (line 2))\n",
            "  Downloading decorator-5.0.3-py3-none-any.whl.metadata (3.9 kB)\n",
            "Collecting editdistance==0.5.3 (from -r /content/Arabic-OCR/requirements.txt (line 3))\n",
            "  Downloading editdistance-0.5.3.tar.gz (27 kB)\n",
            "  Preparing metadata (setup.py) ... \u001b[?25l\u001b[?25hdone\n",
            "Collecting imageio==2.9.0 (from -r /content/Arabic-OCR/requirements.txt (line 4))\n",
            "  Downloading imageio-2.9.0-py3-none-any.whl.metadata (2.6 kB)\n",
            "Collecting joblib==1.2.0 (from -r /content/Arabic-OCR/requirements.txt (line 5))\n",
            "  Downloading joblib-1.2.0-py3-none-any.whl.metadata (5.3 kB)\n",
            "Collecting kiwisolver==1.3.1 (from -r /content/Arabic-OCR/requirements.txt (line 6))\n",
            "  Downloading kiwisolver-1.3.1.tar.gz (53 kB)\n",
            "\u001b[2K     \u001b[90m━━━━━━━━━━━━━━━━━━━━━━━━━━━━━━━━━━━━━━━━\u001b[0m \u001b[32m53.1/53.1 kB\u001b[0m \u001b[31m5.4 MB/s\u001b[0m eta \u001b[36m0:00:00\u001b[0m\n",
            "\u001b[?25h  Preparing metadata (setup.py) ... \u001b[?25l\u001b[?25hdone\n",
            "Collecting networkx==2.5 (from -r /content/Arabic-OCR/requirements.txt (line 7))\n",
            "  Downloading networkx-2.5-py3-none-any.whl.metadata (4.9 kB)\n",
            "Collecting numpy==1.22.0 (from -r /content/Arabic-OCR/requirements.txt (line 8))\n",
            "  Downloading numpy-1.22.0-cp310-cp310-manylinux_2_17_x86_64.manylinux2014_x86_64.whl.metadata (2.0 kB)\n",
            "Collecting opencv-python==4.5.1.48 (from -r /content/Arabic-OCR/requirements.txt (line 9))\n",
            "  Downloading opencv-python-4.5.1.48.tar.gz (88.3 MB)\n",
            "\u001b[2K     \u001b[90m━━━━━━━━━━━━━━━━━━━━━━━━━━━━━━━━━━━━━━━━\u001b[0m \u001b[32m88.3/88.3 MB\u001b[0m \u001b[31m17.0 MB/s\u001b[0m eta \u001b[36m0:00:00\u001b[0m\n",
            "\u001b[?25h  \u001b[1;31merror\u001b[0m: \u001b[1msubprocess-exited-with-error\u001b[0m\n",
            "  \n",
            "  \u001b[31m×\u001b[0m \u001b[32mpip subprocess to install build dependencies\u001b[0m did not run successfully.\n",
            "  \u001b[31m│\u001b[0m exit code: \u001b[1;36m1\u001b[0m\n",
            "  \u001b[31m╰─>\u001b[0m See above for output.\n",
            "  \n",
            "  \u001b[1;35mnote\u001b[0m: This error originates from a subprocess, and is likely not a problem with pip.\n",
            "  Installing build dependencies ... \u001b[?25l\u001b[?25herror\n",
            "\u001b[1;31merror\u001b[0m: \u001b[1msubprocess-exited-with-error\u001b[0m\n",
            "\n",
            "\u001b[31m×\u001b[0m \u001b[32mpip subprocess to install build dependencies\u001b[0m did not run successfully.\n",
            "\u001b[31m│\u001b[0m exit code: \u001b[1;36m1\u001b[0m\n",
            "\u001b[31m╰─>\u001b[0m See above for output.\n",
            "\n",
            "\u001b[1;35mnote\u001b[0m: This error originates from a subprocess, and is likely not a problem with pip.\n"
          ]
        }
      ]
    },
    {
      "cell_type": "code",
      "source": [
        "!git clone https://github.com/HusseinYoussef/Arabic-OCR.git"
      ],
      "metadata": {
        "colab": {
          "base_uri": "https://localhost:8080/"
        },
        "outputId": "a199919e-62fc-4e98-e670-400c52cbf3e1",
        "id": "y6PCrT3j-oKJ"
      },
      "execution_count": null,
      "outputs": [
        {
          "output_type": "stream",
          "name": "stdout",
          "text": [
            "Cloning into 'Arabic-OCR'...\n",
            "remote: Enumerating objects: 272, done.\u001b[K\n",
            "remote: Counting objects: 100% (265/265), done.\u001b[K\n",
            "remote: Compressing objects: 100% (135/135), done.\u001b[K\n",
            "remote: Total 272 (delta 130), reused 245 (delta 121), pack-reused 7 (from 1)\u001b[K\n",
            "Receiving objects: 100% (272/272), 13.04 MiB | 18.35 MiB/s, done.\n",
            "Resolving deltas: 100% (130/130), done.\n"
          ]
        }
      ]
    },
    {
      "cell_type": "code",
      "source": [
        "cd Arabic-OCR/src"
      ],
      "metadata": {
        "colab": {
          "base_uri": "https://localhost:8080/"
        },
        "outputId": "25268400-c90a-4e2f-ffe8-531d6ad035dd",
        "id": "NaW6k_ol-oKL"
      },
      "execution_count": null,
      "outputs": [
        {
          "output_type": "stream",
          "name": "stdout",
          "text": [
            "/content/Arabic-OCR/src\n"
          ]
        }
      ]
    },
    {
      "cell_type": "code",
      "source": [
        "!pip install -r /content/Arabic-OCR/requirements.txt"
      ],
      "metadata": {
        "colab": {
          "base_uri": "https://localhost:8080/"
        },
        "outputId": "deb4892d-7075-4111-f27c-10764af0cc74",
        "id": "Mss8Ifsr-oKL"
      },
      "execution_count": null,
      "outputs": [
        {
          "output_type": "stream",
          "name": "stdout",
          "text": [
            "Collecting cycler==0.10.0 (from -r /content/Arabic-OCR/requirements.txt (line 1))\n",
            "  Downloading cycler-0.10.0-py2.py3-none-any.whl.metadata (722 bytes)\n",
            "Collecting decorator==5.0.3 (from -r /content/Arabic-OCR/requirements.txt (line 2))\n",
            "  Downloading decorator-5.0.3-py3-none-any.whl.metadata (3.9 kB)\n",
            "Collecting editdistance==0.5.3 (from -r /content/Arabic-OCR/requirements.txt (line 3))\n",
            "  Downloading editdistance-0.5.3.tar.gz (27 kB)\n",
            "  Preparing metadata (setup.py) ... \u001b[?25l\u001b[?25hdone\n",
            "Collecting imageio==2.9.0 (from -r /content/Arabic-OCR/requirements.txt (line 4))\n",
            "  Downloading imageio-2.9.0-py3-none-any.whl.metadata (2.6 kB)\n",
            "Collecting joblib==1.2.0 (from -r /content/Arabic-OCR/requirements.txt (line 5))\n",
            "  Downloading joblib-1.2.0-py3-none-any.whl.metadata (5.3 kB)\n",
            "Collecting kiwisolver==1.3.1 (from -r /content/Arabic-OCR/requirements.txt (line 6))\n",
            "  Downloading kiwisolver-1.3.1.tar.gz (53 kB)\n",
            "\u001b[2K     \u001b[90m━━━━━━━━━━━━━━━━━━━━━━━━━━━━━━━━━━━━━━━━\u001b[0m \u001b[32m53.1/53.1 kB\u001b[0m \u001b[31m5.4 MB/s\u001b[0m eta \u001b[36m0:00:00\u001b[0m\n",
            "\u001b[?25h  Preparing metadata (setup.py) ... \u001b[?25l\u001b[?25hdone\n",
            "Collecting networkx==2.5 (from -r /content/Arabic-OCR/requirements.txt (line 7))\n",
            "  Downloading networkx-2.5-py3-none-any.whl.metadata (4.9 kB)\n",
            "Collecting numpy==1.22.0 (from -r /content/Arabic-OCR/requirements.txt (line 8))\n",
            "  Downloading numpy-1.22.0-cp310-cp310-manylinux_2_17_x86_64.manylinux2014_x86_64.whl.metadata (2.0 kB)\n",
            "Collecting opencv-python==4.5.1.48 (from -r /content/Arabic-OCR/requirements.txt (line 9))\n",
            "  Downloading opencv-python-4.5.1.48.tar.gz (88.3 MB)\n",
            "\u001b[2K     \u001b[90m━━━━━━━━━━━━━━━━━━━━━━━━━━━━━━━━━━━━━━━━\u001b[0m \u001b[32m88.3/88.3 MB\u001b[0m \u001b[31m17.0 MB/s\u001b[0m eta \u001b[36m0:00:00\u001b[0m\n",
            "\u001b[?25h  \u001b[1;31merror\u001b[0m: \u001b[1msubprocess-exited-with-error\u001b[0m\n",
            "  \n",
            "  \u001b[31m×\u001b[0m \u001b[32mpip subprocess to install build dependencies\u001b[0m did not run successfully.\n",
            "  \u001b[31m│\u001b[0m exit code: \u001b[1;36m1\u001b[0m\n",
            "  \u001b[31m╰─>\u001b[0m See above for output.\n",
            "  \n",
            "  \u001b[1;35mnote\u001b[0m: This error originates from a subprocess, and is likely not a problem with pip.\n",
            "  Installing build dependencies ... \u001b[?25l\u001b[?25herror\n",
            "\u001b[1;31merror\u001b[0m: \u001b[1msubprocess-exited-with-error\u001b[0m\n",
            "\n",
            "\u001b[31m×\u001b[0m \u001b[32mpip subprocess to install build dependencies\u001b[0m did not run successfully.\n",
            "\u001b[31m│\u001b[0m exit code: \u001b[1;36m1\u001b[0m\n",
            "\u001b[31m╰─>\u001b[0m See above for output.\n",
            "\n",
            "\u001b[1;35mnote\u001b[0m: This error originates from a subprocess, and is likely not a problem with pip.\n"
          ]
        }
      ]
    },
    {
      "cell_type": "code",
      "source": [
        "# Define dataset paths (replace with actual paths)\n",
        "data_dir = \"/content/Dhad/Dhad_Dataset\"  # Replace with your dataset directory\n",
        "train_dir = data_dir + \"/train\"\n",
        "test_dir = data_dir + \"/test\"\n",
        "val_dir = data_dir + \"/validation\"  # Adjust if validation folder name is different\n",
        "\n",
        "# Data transformations (adjust based on your dataset requirements)\n",
        "data_transforms = {\n",
        "    'train': transforms.Compose([\n",
        "        transforms.RandomResizedCrop(224),  # Adjust image size as needed\n",
        "        transforms.RandomHorizontalFlip(),\n",
        "        transforms.ToTensor(),\n",
        "        transforms.Normalize([0.485, 0.456, 0.406], [0.229, 0.224, 0.225])  # Adjust normalization if needed\n",
        "    ]),\n",
        "    'test': transforms.Compose([\n",
        "        transforms.Resize(256),  # Adjust image size as needed (may differ from training)\n",
        "        transforms.CenterCrop(224),\n",
        "        transforms.ToTensor(),\n",
        "        transforms.Normalize([0.485, 0.456, 0.406], [0.229, 0.224, 0.225])  # Same normalization as training\n",
        "    ]),\n",
        "    'val': transforms.Compose([  # Add validation transforms if needed\n",
        "        transforms.Resize(256),  # Adjust image size as needed\n",
        "        transforms.CenterCrop(224),\n",
        "        transforms.ToTensor(),\n",
        "        transforms.Normalize([0.485, 0.456, 0.406], [0.229, 0.224, 0.225])  # Same normalization as training\n",
        "    ])\n",
        "}\n",
        "\n",
        "# Load datasets\n",
        "image_datasets = {x: datasets.ImageFolder(os.path.join(data_dir, x), data_transforms[x]) for x in ['train', 'test', 'val']}\n",
        "dataloaders = {x: torch.utils.data.DataLoader(image_datasets[x], batch_size=4, shuffle=True, num_workers=4) for x in ['train', 'val']}  # Adjust batch size, shuffle, and num_workers as needed\n",
        "dataset_sizes = {x: len(image_datasets[x]) for x in ['train', 'test', 'val']}\n",
        "class_names = image_datasets['train'].classes  # Assuming class labels are in the training folder\n",
        "\n",
        "# Accessing image count per folder (assuming you have the paths defined correctly)\n",
        "train_count = len(image_datasets['train'])\n",
        "test_count = len(image_datasets['test'])\n",
        "val_count = len(image_datasets['val'])  # Adjust if validation folder name is different\n",
        "\n",
        "print(f\"Train images: {train_count}\")\n",
        "print(f\"Test images: {test_count}\")\n",
        "print(f\"Validation images: {val_count}\")  # Adjust if validation folder name is different\n"
      ],
      "metadata": {
        "colab": {
          "base_uri": "https://localhost:8080/"
        },
        "id": "jb04f7VwPAy5",
        "outputId": "f2999ad7-a98e-44af-9a0f-0b96462fbe49"
      },
      "execution_count": null,
      "outputs": [
        {
          "output_type": "stream",
          "name": "stdout",
          "text": [
            "Train images: 25545\n",
            "Test images: 10333\n",
            "Validation images: 10310\n"
          ]
        }
      ]
    },
    {
      "cell_type": "code",
      "source": [
        "dataset_path = \"https://github.com/daadturki1/Dhad/tree/main/Dhad_Dataset\""
      ],
      "metadata": {
        "id": "_2lJC4Roocmv"
      },
      "execution_count": null,
      "outputs": []
    },
    {
      "cell_type": "code",
      "source": [
        "dataset_path = \"Dhad/Dhad_Dataset\"  # Path to the dataset folder within the cloned repository\n",
        "train_path = dataset_path + \"/train\"\n",
        "test_path = dataset_path + \"/test\"\n",
        "val_path = dataset_path + \"/val\""
      ],
      "metadata": {
        "id": "hArzlZjEr547"
      },
      "execution_count": null,
      "outputs": []
    },
    {
      "cell_type": "code",
      "source": [
        "target_directory = \"/content/Dhad/Dhad_Dataset/train\"\n",
        "print(f\"Target dir: {target_directory}\")\n",
        "\n",
        "# Get the class names from the target directory and discard the first index\n",
        "class_names_found = sorted([entry.name for entry in os.scandir(target_directory) if entry.is_dir()])[1:]\n",
        "\n",
        "# Count the number of images in each folder\n",
        "image_counts = {}\n",
        "for class_name in class_names_found:\n",
        "    class_directory = os.path.join(target_directory, class_name)\n",
        "    image_count = len([entry for entry in os.scandir(class_directory) if entry.is_file()])\n",
        "    image_counts[class_name] = image_count\n",
        "\n",
        "# Print the number of images in each folder\n",
        "for class_name, count in image_counts.items():\n",
        "    print(f\"{class_name}: {count} images\")"
      ],
      "metadata": {
        "colab": {
          "base_uri": "https://localhost:8080/"
        },
        "id": "hy1fGQshBPCX",
        "outputId": "20e6413b-e33a-40cf-b828-01ffb7955f14"
      },
      "execution_count": null,
      "outputs": [
        {
          "output_type": "stream",
          "name": "stdout",
          "text": [
            "Target dir: /content/Dhad/Dhad_Dataset/train\n",
            "10-raa: 538 images\n",
            "11-zeyn: 566 images\n",
            "12-seen: 696 images\n",
            "13-sheen: 784 images\n",
            "14-sad: 598 images\n",
            "15-dhad: 1061 images\n",
            "16-t_aa: 1155 images\n",
            "17-th_aa: 1131 images\n",
            "18-ayen: 1093 images\n",
            "19-ghayen: 600 images\n",
            "2-baa: 1109 images\n",
            "20-faa: 877 images\n",
            "21-ghaf: 1006 images\n",
            "22-kaf: 1211 images\n",
            "23-lam: 710 images\n",
            "24-meem: 1173 images\n",
            "25-noon: 1147 images\n",
            "26-haa: 1308 images\n",
            "27-waw: 523 images\n",
            "28-yaa: 681 images\n",
            "29-hamzah: 844 images\n",
            "3-taa: 977 images\n",
            "4-thaa: 1040 images\n",
            "5-jeem: 972 images\n",
            "6-h_aa: 1152 images\n",
            "7-khaa: 660 images\n",
            "8-dal: 558 images\n",
            "9-thal: 549 images\n"
          ]
        }
      ]
    },
    {
      "cell_type": "code",
      "source": [
        "class GrayscaleToRGB(object):\n",
        "    def __call__(self, img):\n",
        "        if isinstance(img, torch.Tensor):\n",
        "            img = img.squeeze().cpu().numpy()\n",
        "            img = np.transpose(img, (1, 2, 0))\n",
        "            img = (img - np.min(img)) / (np.max(img) - np.min(img))\n",
        "            img = (255 * img).astype(np.uint8)\n",
        "            img = PIL.Image.fromarray(img)\n",
        "\n",
        "        return img.convert('RGB')"
      ],
      "metadata": {
        "id": "dBMjUKFGiK9a"
      },
      "execution_count": null,
      "outputs": []
    },
    {
      "cell_type": "code",
      "source": [
        "transform = transforms.Compose([\n",
        "    GrayscaleToRGB(),\n",
        "    transforms.Resize((224, 224)), # 1. Reshape all images to 224x224 (though some models may require different sizes)\n",
        "    transforms.ToTensor(), # 2. Turn image values to between 0 & 1\n",
        "    transforms.Normalize(mean=[0.485, 0.456, 0.406], # 3. A mean of [0.485, 0.456, 0.406] (across each colour channel)\n",
        "                         std=[0.229, 0.224, 0.225]) # 4. A standard deviation of [0.229, 0.224, 0.225] (across each colour channel),\n",
        "])"
      ],
      "metadata": {
        "id": "jEEuLl76tYid"
      },
      "execution_count": null,
      "outputs": []
    },
    {
      "cell_type": "code",
      "source": [
        "train_dataset = ImageFolder(train_path, transform=transform)\n",
        "test_dataset = ImageFolder(test_path, transform=transform)\n",
        "val_dataset = ImageFolder(val_path, transform=transform)"
      ],
      "metadata": {
        "id": "PXgmT8I4txcy"
      },
      "execution_count": null,
      "outputs": []
    },
    {
      "cell_type": "code",
      "source": [
        "train_loaderr = DataLoader(train_dataset, batch_size=32, shuffle=True)\n",
        "test_loaderr = DataLoader(test_dataset, batch_size=32, shuffle=False)\n",
        "val_loaderr = DataLoader(val_dataset, batch_size=32, shuffle=False)"
      ],
      "metadata": {
        "id": "JUVlFhPzjFFU"
      },
      "execution_count": null,
      "outputs": []
    },
    {
      "cell_type": "code",
      "source": [
        "random_index = random.randint(0, len(train_dataset)-1)\n",
        "image, label = train_dataset[random_index]"
      ],
      "metadata": {
        "id": "grWBfbj0wJ2d"
      },
      "execution_count": null,
      "outputs": []
    },
    {
      "cell_type": "code",
      "source": [
        "image = image.numpy().transpose((1, 2, 0))"
      ],
      "metadata": {
        "id": "tVpCvkpMwWX2"
      },
      "execution_count": null,
      "outputs": []
    },
    {
      "cell_type": "code",
      "source": [
        "class_names = train_dataset.classes\n",
        "label_name = class_names[label]\n",
        "plt.imshow(image)\n",
        "plt.title(label_name)\n",
        "plt.axis('off')\n",
        "plt.show()"
      ],
      "metadata": {
        "colab": {
          "base_uri": "https://localhost:8080/",
          "height": 465
        },
        "id": "S2P_J949waTO",
        "outputId": "70299e68-929d-43b4-b1e2-493da9bc6a58"
      },
      "execution_count": null,
      "outputs": [
        {
          "output_type": "stream",
          "name": "stderr",
          "text": [
            "WARNING:matplotlib.image:Clipping input data to the valid range for imshow with RGB data ([0..1] for floats or [0..255] for integers).\n"
          ]
        },
        {
          "output_type": "display_data",
          "data": {
            "text/plain": [
              "<Figure size 640x480 with 1 Axes>"
            ],
            "image/png": "[encoded data removed]"
          },
          "metadata": {}
        }
      ]
    },
    {
      "cell_type": "code",
      "source": [
        "image , label = train_dataset.__getitem__(32)\n",
        "\n",
        "image.size()"
      ],
      "metadata": {
        "colab": {
          "base_uri": "https://localhost:8080/"
        },
        "id": "Ef6G5VGF30GU",
        "outputId": "17ab5655-4a3c-471f-f29f-6392e5ab77d3"
      },
      "execution_count": null,
      "outputs": [
        {
          "output_type": "execute_result",
          "data": {
            "text/plain": [
              "torch.Size([3, 224, 224])"
            ]
          },
          "metadata": {},
          "execution_count": 15
        }
      ]
    },
    {
      "cell_type": "code",
      "execution_count": null,
      "metadata": {
        "id": "F2PMrzty79dX"
      },
      "outputs": [],
      "source": [
        "#train_loader = DataLoader(train_dataset, batch_size= 64, shuffle=True)\n",
        "#test_loader = DataLoader(test_dataset, batch_size= 64, shuffle=False)\n",
        "#val_loader = DataLoader(val_dataset, batch_size= 64, shuffle=False)"
      ]
    },
    {
      "cell_type": "code",
      "source": [
        "class GrayscaleToRGB(object):\n",
        "    def __call__(self, img):\n",
        "        return img.convert('RGB')"
      ],
      "metadata": {
        "id": "1-Fgx1_qh2h5"
      },
      "execution_count": null,
      "outputs": []
    },
    {
      "cell_type": "code",
      "source": [
        "class ImageDataset(Dataset):\n",
        "\n",
        "    def __init__(self, data, transform=None):\n",
        "        self.data = data\n",
        "        self.transform = transform\n",
        "\n",
        "    def __len__(self):\n",
        "        return len(self.data)\n",
        "\n",
        "    def __getitem__(self, index):\n",
        "        # load image as ndarray type (Height * Width * Channels)\n",
        "        # be carefull for converting dtype to np.uint8 [Unsigned integer (0 to 255)]\n",
        "        # in this example, i don't use ToTensor() method of torchvision.transforms\n",
        "        # so you can convert numpy ndarray shape to tensor in PyTorch (H, W, C) --> (C, H, W)\n",
        "        image_array = self.data.iloc[index, self.data.columns != 'label'].values.astype(np.uint8).reshape(32,32)\n",
        "        image = Image.fromarray(image_array)\n",
        "        label = self.data.iloc[index, -1] - 1\n",
        "\n",
        "        if self.transform is not None:\n",
        "            image = self.transform(image)\n",
        "\n",
        "        return image, label"
      ],
      "metadata": {
        "id": "7bcVGdAKh_BC"
      },
      "execution_count": null,
      "outputs": []
    },
    {
      "cell_type": "code",
      "source": [
        "import random\n",
        "from PIL import Image\n",
        "\n",
        "# Set seed\n",
        "random.seed(42)\n",
        "image_path_organised='/content/Dhad/Dhad_Dataset'\n",
        "# 1. Get all image paths\n",
        "image_path_list = list(Path(image_path_organised).glob(\"*/*/*.png\"))\n",
        "\n",
        "# 2. Pick a random image path\n",
        "random_image_path = random.choice(image_path_list)\n",
        "print(random_image_path)\n",
        "\n",
        "# 3. Get image class from path name\n",
        "image_class = random_image_path.parent.stem\n",
        "print(image_class)\n",
        "\n",
        "# 4. Open image\n",
        "img = Image.open(random_image_path)\n",
        "\n",
        "# 5. Print metadata\n",
        "print(f\"Random image path:{random_image_path}\")\n",
        "print(f\"Image class: {image_class}\")\n",
        "print(f\"Image height: {img.height}\")\n",
        "print(f\"Image width: {img.width}\")\n",
        "img"
      ],
      "metadata": {
        "colab": {
          "base_uri": "https://localhost:8080/",
          "height": 153
        },
        "id": "f2qNly20j7lC",
        "outputId": "095a974f-0db0-48e4-d4ba-49ba4205b8a2"
      },
      "execution_count": null,
      "outputs": [
        {
          "output_type": "stream",
          "name": "stdout",
          "text": [
            "/content/Dhad/Dhad_Dataset/test/7-khaa/khaa564.png\n",
            "7-khaa\n",
            "Random image path:/content/Dhad/Dhad_Dataset/test/7-khaa/khaa564.png\n",
            "Image class: 7-khaa\n",
            "Image height: 32\n",
            "Image width: 32\n"
          ]
        },
        {
          "output_type": "execute_result",
          "data": {
            "text/plain": [
              "<PIL.PngImagePlugin.PngImageFile image mode=RGB size=32x32>"
            ],
            "image/png": "[encoded data removed]",
            "image/jpeg": "[encoded data removed]"
          },
          "metadata": {},
          "execution_count": 19
        }
      ]
    },
    {
      "cell_type": "code",
      "source": [
        "# Try to visualize and image with matplotlib.\n",
        "\n",
        "import numpy as np\n",
        "import matplotlib.pyplot as plt\n",
        "\n",
        "# Turn the image into an array\n",
        "img_as_array = np.asarray(img)\n",
        "\n",
        "# Plot the image with matplotlib\n",
        "plt.figure(figsize=(10,7))\n",
        "plt.imshow(img_as_array)\n",
        "plt.title(f\"Image class: {image_class} | Image shape: {img_as_array.shape} -> (height, width, color channels) (HWC)\")\n",
        "plt.axis(False)"
      ],
      "metadata": {
        "colab": {
          "base_uri": "https://localhost:8080/",
          "height": 557
        },
        "id": "64_hAJq3kARx",
        "outputId": "437c5673-4256-489b-dd63-303f82eacd15"
      },
      "execution_count": null,
      "outputs": [
        {
          "output_type": "execute_result",
          "data": {
            "text/plain": [
              "(-0.5, 31.5, 31.5, -0.5)"
            ]
          },
          "metadata": {},
          "execution_count": 20
        },
        {
          "output_type": "display_data",
          "data": {
            "text/plain": [
              "<Figure size 1000x700 with 1 Axes>"
            ],
            "image/png": "[encoded data removed]"
          },
          "metadata": {}
        }
      ]
    },
    {
      "cell_type": "code",
      "source": [
        "data_transform = transforms.Compose([\n",
        "    GrayscaleToRGB(),\n",
        "    transforms.ToTensor(),\n",
        "    transforms.Normalize(mean=(0.5,), std=(0.5,)),\n",
        "    transforms.Resize(size=(64,64)), ## this is added in the new code\n",
        "    ])\n"
      ],
      "metadata": {
        "id": "t4AegyU8juLo"
      },
      "execution_count": null,
      "outputs": []
    },
    {
      "cell_type": "code",
      "source": [
        "# Now we can transform our random image and print out the dtype, shape and the img representation (tensor)\n",
        "data_transform(img).dtype,data_transform(img).shape, data_transform(img)"
      ],
      "metadata": {
        "colab": {
          "base_uri": "https://localhost:8080/"
        },
        "id": "quRdDwGyjpgu",
        "outputId": "37666150-ad29-4ea5-daf1-dc39917a2a94"
      },
      "execution_count": null,
      "outputs": [
        {
          "output_type": "execute_result",
          "data": {
            "text/plain": [
              "(torch.float32,\n",
              " torch.Size([3, 64, 64]),\n",
              " tensor([[[1., 1., 1.,  ..., 1., 1., 1.],\n",
              "          [1., 1., 1.,  ..., 1., 1., 1.],\n",
              "          [1., 1., 1.,  ..., 1., 1., 1.],\n",
              "          ...,\n",
              "          [1., 1., 1.,  ..., 1., 1., 1.],\n",
              "          [1., 1., 1.,  ..., 1., 1., 1.],\n",
              "          [1., 1., 1.,  ..., 1., 1., 1.]],\n",
              " \n",
              "         [[1., 1., 1.,  ..., 1., 1., 1.],\n",
              "          [1., 1., 1.,  ..., 1., 1., 1.],\n",
              "          [1., 1., 1.,  ..., 1., 1., 1.],\n",
              "          ...,\n",
              "          [1., 1., 1.,  ..., 1., 1., 1.],\n",
              "          [1., 1., 1.,  ..., 1., 1., 1.],\n",
              "          [1., 1., 1.,  ..., 1., 1., 1.]],\n",
              " \n",
              "         [[1., 1., 1.,  ..., 1., 1., 1.],\n",
              "          [1., 1., 1.,  ..., 1., 1., 1.],\n",
              "          [1., 1., 1.,  ..., 1., 1., 1.],\n",
              "          ...,\n",
              "          [1., 1., 1.,  ..., 1., 1., 1.],\n",
              "          [1., 1., 1.,  ..., 1., 1., 1.],\n",
              "          [1., 1., 1.,  ..., 1., 1., 1.]]]))"
            ]
          },
          "metadata": {},
          "execution_count": 22
        }
      ]
    },
    {
      "cell_type": "code",
      "source": [
        "def plot_transformed_images(image_paths: list, transform, n=3, seed=None):\n",
        "  \"\"\"\n",
        "  Selects random images from a path of images and loads/transforms\n",
        "  them then plots the original vs the transformed version.\n",
        "  \"\"\"\n",
        "  if seed:\n",
        "    random.seed(seed)\n",
        "  random_image_paths = random.sample(image_paths, k=n)\n",
        "  for image_path in random_image_paths:\n",
        "    with Image.open(image_path) as f:\n",
        "      fig, ax = plt.subplots(nrows=1, ncols=2)\n",
        "      ax[0].imshow(f)\n",
        "      ax[0].set_title(f\"Original\\nSize: {f.size}\")\n",
        "      ax[0].axis(False)\n",
        "\n",
        "      # Transform and plot target image\n",
        "      transformed_image = transform(f).permute(1, 2, 0) # note we will need to change shape for matplotlib (C, H, W) -> (H, W, C)\n",
        "      ax[1].imshow(transformed_image)\n",
        "      ax[1].set_title(f\"Transformed\\nShape: {transformed_image.shape}\")\n",
        "      ax[1].axis(\"off\")\n",
        "\n",
        "      fig.suptitle(f\"Class: {image_path.parent.stem}\", fontsize=16)\n",
        "\n",
        "plot_transformed_images(image_paths=image_path_list,\n",
        "                        transform=data_transform,\n",
        "                        n=3,\n",
        "                        seed=28)"
      ],
      "metadata": {
        "colab": {
          "base_uri": "https://localhost:8080/",
          "height": 1000
        },
        "id": "uCLeEiB3jkj_",
        "outputId": "44b166c5-9e34-41f9-86f4-70bdd585bdc1"
      },
      "execution_count": null,
      "outputs": [
        {
          "output_type": "stream",
          "name": "stderr",
          "text": [
            "WARNING:matplotlib.image:Clipping input data to the valid range for imshow with RGB data ([0..1] for floats or [0..255] for integers).\n",
            "WARNING:matplotlib.image:Clipping input data to the valid range for imshow with RGB data ([0..1] for floats or [0..255] for integers).\n",
            "WARNING:matplotlib.image:Clipping input data to the valid range for imshow with RGB data ([0..1] for floats or [0..255] for integers).\n"
          ]
        },
        {
          "output_type": "display_data",
          "data": {
            "text/plain": [
              "<Figure size 640x480 with 2 Axes>"
            ],
            "image/png": "[encoded data removed]"
          },
          "metadata": {}
        },
        {
          "output_type": "display_data",
          "data": {
            "text/plain": [
              "<Figure size 640x480 with 2 Axes>"
            ],
            "image/png": "[encoded data removed]"
          },
          "metadata": {}
        },
        {
          "output_type": "display_data",
          "data": {
            "text/plain": [
              "<Figure size 640x480 with 2 Axes>"
            ],
            "image/png": "[encoded data removed]"
          },
          "metadata": {}
        }
      ]
    },
    {
      "cell_type": "code",
      "source": [
        "# Setup path for target directory\n",
        "target_directory = train_dir\n",
        "print(f\"Target dir: {target_directory}\")\n",
        "\n",
        "# Get the class names from the target directory\n",
        "class_names_found = sorted([entry.name for entry in list(os.scandir(target_directory))])\n",
        "class_names_found"
      ],
      "metadata": {
        "colab": {
          "base_uri": "https://localhost:8080/"
        },
        "id": "UM8WB6wQmMjv",
        "outputId": "8ce086d0-e566-4139-a41d-b57a60e3cb23"
      },
      "execution_count": null,
      "outputs": [
        {
          "output_type": "stream",
          "name": "stdout",
          "text": [
            "Target dir: /content/Dhad/Dhad_Dataset/train\n"
          ]
        },
        {
          "output_type": "execute_result",
          "data": {
            "text/plain": [
              "['.DS_Store',\n",
              " '1-alif',\n",
              " '10-raa',\n",
              " '11-zeyn',\n",
              " '12-seen',\n",
              " '13-sheen',\n",
              " '14-sad',\n",
              " '15-dhad',\n",
              " '16-t_aa',\n",
              " '17-th_aa',\n",
              " '18-ayen',\n",
              " '19-ghayen',\n",
              " '2-baa',\n",
              " '20-faa',\n",
              " '21-ghaf',\n",
              " '22-kaf',\n",
              " '23-lam',\n",
              " '24-meem',\n",
              " '25-noon',\n",
              " '26-haa',\n",
              " '27-waw',\n",
              " '28-yaa',\n",
              " '29-hamzah',\n",
              " '3-taa',\n",
              " '4-thaa',\n",
              " '5-jeem',\n",
              " '6-h_aa',\n",
              " '7-khaa',\n",
              " '8-dal',\n",
              " '9-thal']"
            ]
          },
          "metadata": {},
          "execution_count": 24
        }
      ]
    },
    {
      "cell_type": "code",
      "source": [
        "import torch\n",
        "\n",
        "def order_class_list(class_list):\n",
        "    # Remove the first item ('.DS_Store') if it exists\n",
        "    if class_list[0] == '.DS_Store':\n",
        "        class_list = class_list[1:]\n",
        "\n",
        "    # Extract the numbers from class names and convert them to integers\n",
        "    class_numbers = [int(item.split('-')[0]) for item in class_list]\n",
        "\n",
        "    # Sort the class names based on the extracted numbers\n",
        "    ordered_class_list = [class_name for _, class_name in sorted(zip(class_numbers, class_list))]\n",
        "\n",
        "    return ordered_class_list\n",
        "\n",
        "# Example usage:\n",
        "ordered_class_list = order_class_list(class_names_found)\n",
        "print(ordered_class_list)\n"
      ],
      "metadata": {
        "colab": {
          "base_uri": "https://localhost:8080/"
        },
        "id": "8tpn4yxSpQwr",
        "outputId": "ec810ba0-1444-4130-b972-333478b82cc9"
      },
      "execution_count": null,
      "outputs": [
        {
          "output_type": "stream",
          "name": "stdout",
          "text": [
            "['1-alif', '2-baa', '3-taa', '4-thaa', '5-jeem', '6-h_aa', '7-khaa', '8-dal', '9-thal', '10-raa', '11-zeyn', '12-seen', '13-sheen', '14-sad', '15-dhad', '16-t_aa', '17-th_aa', '18-ayen', '19-ghayen', '20-faa', '21-ghaf', '22-kaf', '23-lam', '24-meem', '25-noon', '26-haa', '27-waw', '28-yaa', '29-hamzah']\n"
          ]
        }
      ]
    },
    {
      "cell_type": "code",
      "source": [
        "# Example usage:\n",
        "ordered_class_list = order_class_list(class_names_found)\n",
        "print(ordered_class_list)"
      ],
      "metadata": {
        "colab": {
          "base_uri": "https://localhost:8080/"
        },
        "id": "54foQ3Kn9PCF",
        "outputId": "7c7c9416-0cb0-44e0-ebf0-e40a7cf7a0e4"
      },
      "execution_count": null,
      "outputs": [
        {
          "output_type": "stream",
          "name": "stdout",
          "text": [
            "['1-alif', '2-baa', '3-taa', '4-thaa', '5-jeem', '6-h_aa', '7-khaa', '8-dal', '9-thal', '10-raa', '11-zeyn', '12-seen', '13-sheen', '14-sad', '15-dhad', '16-t_aa', '17-th_aa', '18-ayen', '19-ghayen', '20-faa', '21-ghaf', '22-kaf', '23-lam', '24-meem', '25-noon', '26-haa', '27-waw', '28-yaa', '29-hamzah']\n"
          ]
        }
      ]
    },
    {
      "cell_type": "code",
      "source": [
        "def order_class_list_1(class_list):\n",
        "    # Extract the numbers from class names and convert them to integers\n",
        "    class_numbers = [int(item.split('-')[0]) for item in class_list[1:]]  # Skip the first item\n",
        "    # Sort the class names based on the extracted numbers\n",
        "    ordered_class_list = [class_name for _, class_name in sorted(zip(class_numbers, class_list[1:]))]  # Skip the first item\n",
        "    # Add the first item back to the ordered list\n",
        "    ordered_class_list.insert(0, class_list[0])\n",
        "    return ordered_class_list\n",
        "\n",
        "# Example usage:\n",
        "ordered_class_list_1 = order_class_list_1(class_names_found)\n",
        "print(ordered_class_list_1)\n"
      ],
      "metadata": {
        "colab": {
          "base_uri": "https://localhost:8080/"
        },
        "id": "Ex-KsmbZqJjC",
        "outputId": "ca02f689-1a4f-418d-82ea-15b3b622d3b8"
      },
      "execution_count": null,
      "outputs": [
        {
          "output_type": "stream",
          "name": "stdout",
          "text": [
            "['.DS_Store', '1-alif', '2-baa', '3-taa', '4-thaa', '5-jeem', '6-h_aa', '7-khaa', '8-dal', '9-thal', '10-raa', '11-zeyn', '12-seen', '13-sheen', '14-sad', '15-dhad', '16-t_aa', '17-th_aa', '18-ayen', '19-ghayen', '20-faa', '21-ghaf', '22-kaf', '23-lam', '24-meem', '25-noon', '26-haa', '27-waw', '28-yaa', '29-hamzah']\n"
          ]
        }
      ]
    },
    {
      "cell_type": "code",
      "source": [
        "from typing import List, Dict, Tuple\n",
        "import os\n",
        "import re\n",
        "\n",
        "def find_classes_with_indices(directory: str) -> Tuple[List[str], Dict[str, int]]:\n",
        "    \"\"\"Finds the class folder names in a target directory and assigns indices based on numerical order\"\"\"\n",
        "\n",
        "    # 1. Get the class names by scanning the target directory\n",
        "    classes = [entry.name for entry in os.scandir(directory) if entry.is_dir()]\n",
        "\n",
        "    # 2. Raise an error if class names could not be found\n",
        "    if not classes:\n",
        "        raise FileNotFoundError(f\"Couldn't find any classes in {directory}... Please check file structure\")\n",
        "\n",
        "    # 3. Sort the class names based on numerical order\n",
        "    classes.sort(key=lambda x: int(re.search(r\"\\d+\", x).group()))\n",
        "\n",
        "    # 4. Create a dictionary of index labels\n",
        "    class_to_idx = {class_name: i for i, class_name in enumerate(classes, start=1)}  # Start index from 1\n",
        "\n",
        "    return classes, class_to_idx\n",
        "\n",
        "# Example usage:\n",
        "target_directory = \"/content/Dhad/Dhad_Dataset/train\"\n",
        "\n",
        "classes, class_to_idx = find_classes_with_indices(target_directory)\n",
        "\n",
        "# Print the classes and their corresponding indices\n",
        "for class_name, index in class_to_idx.items():\n",
        "    print(f\"Class: {class_name}, Index: {index}\")\n"
      ],
      "metadata": {
        "colab": {
          "base_uri": "https://localhost:8080/"
        },
        "id": "FJTZoP-Z_I5r",
        "outputId": "e593f222-052d-4f0a-85a6-46dfe531149f"
      },
      "execution_count": null,
      "outputs": [
        {
          "output_type": "stream",
          "name": "stdout",
          "text": [
            "Class: 1-alif, Index: 1\n",
            "Class: 2-baa, Index: 2\n",
            "Class: 3-taa, Index: 3\n",
            "Class: 4-thaa, Index: 4\n",
            "Class: 5-jeem, Index: 5\n",
            "Class: 6-h_aa, Index: 6\n",
            "Class: 7-khaa, Index: 7\n",
            "Class: 8-dal, Index: 8\n",
            "Class: 9-thal, Index: 9\n",
            "Class: 10-raa, Index: 10\n",
            "Class: 11-zeyn, Index: 11\n",
            "Class: 12-seen, Index: 12\n",
            "Class: 13-sheen, Index: 13\n",
            "Class: 14-sad, Index: 14\n",
            "Class: 15-dhad, Index: 15\n",
            "Class: 16-t_aa, Index: 16\n",
            "Class: 17-th_aa, Index: 17\n",
            "Class: 18-ayen, Index: 18\n",
            "Class: 19-ghayen, Index: 19\n",
            "Class: 20-faa, Index: 20\n",
            "Class: 21-ghaf, Index: 21\n",
            "Class: 22-kaf, Index: 22\n",
            "Class: 23-lam, Index: 23\n",
            "Class: 24-meem, Index: 24\n",
            "Class: 25-noon, Index: 25\n",
            "Class: 26-haa, Index: 26\n",
            "Class: 27-waw, Index: 27\n",
            "Class: 28-yaa, Index: 28\n",
            "Class: 29-hamzah, Index: 29\n"
          ]
        }
      ]
    },
    {
      "cell_type": "code",
      "source": [
        "# 0. Write a custom dataset class\n",
        "# 1. Subclass torch.utils.data.Dataset\n",
        "class ArabicHCDataset(Dataset):\n",
        "  # 2. Initialize our custom dataset\n",
        "  def __init__(self,\n",
        "               targ_dir: str,\n",
        "               transform=None):\n",
        "    # 3. Create class attributes\n",
        "    # Get all of the image paths\n",
        "    self.paths = list(pathlib.Path(targ_dir).glob(\"*/*.png\"))\n",
        "    # Setup transform\n",
        "    self.transform = transform\n",
        "    # Create classes and class_to_idx attributes\n",
        "    self.classes, self.class_to_idx = find_classes_with_indices(targ_dir)\n",
        "\n",
        "  # 4. Create a function to load images\n",
        "  def load_image(self, index: int) -> Image.Image:\n",
        "    \"Opens an image via a path and returns it.\"\n",
        "    image_path = self.paths[index]\n",
        "    return Image.open(image_path)\n",
        "\n",
        "  # 5. Overwrite __len__()\n",
        "  def __len__(self) -> int:\n",
        "    \"Returns the total number of samples.\"\n",
        "    return len(self.paths)\n",
        "\n",
        "  # 6. Overwrite __getitem__() method to return a particular sample\n",
        "  def __getitem__(self, index: int) -> Tuple[torch.Tensor, int]:\n",
        "    \"Returns one sample of data, data and label (X, y).\"\n",
        "    img = self.load_image(index)\n",
        "    class_name = self.paths[index].parent.name # expects path in format: data_folder/class_name/image.jpg\n",
        "    class_idx = self.class_to_idx[class_name]\n",
        "\n",
        "    # Transform if necessary\n",
        "    if self.transform:\n",
        "      return self.transform(img), class_idx # return data, label (X, y)\n",
        "    else:\n",
        "      return img, class_idx # return untransformed image and label"
      ],
      "metadata": {
        "id": "rBM794sA_bwx"
      },
      "execution_count": null,
      "outputs": []
    },
    {
      "cell_type": "code",
      "source": [
        "# Setup device agnostic code\n",
        "device = \"cuda\" if torch.cuda.is_available() else \"cpu\"\n",
        "device"
      ],
      "metadata": {
        "colab": {
          "base_uri": "https://localhost:8080/",
          "height": 36
        },
        "id": "FcxPy0huLXCL",
        "outputId": "db43b668-80b5-4014-ba73-04f27679e86c"
      },
      "execution_count": null,
      "outputs": [
        {
          "output_type": "execute_result",
          "data": {
            "text/plain": [
              "'cuda'"
            ],
            "application/vnd.google.colaboratory.intrinsic+json": {
              "type": "string"
            }
          },
          "metadata": {},
          "execution_count": 30
        }
      ]
    },
    {
      "cell_type": "code",
      "source": [],
      "metadata": {
        "id": "Fpr36pE_5qIj"
      },
      "execution_count": null,
      "outputs": []
    },
    {
      "cell_type": "code",
      "source": [
        "!jupyter nbconvert --to script RNN_EffNet_Code.ipynb"
      ],
      "metadata": {
        "colab": {
          "base_uri": "https://localhost:8080/"
        },
        "id": "Pxle5AO2A7Tz",
        "outputId": "de235880-7e96-4f09-d60b-c22b8a44616d"
      },
      "execution_count": 8,
      "outputs": [
        {
          "output_type": "stream",
          "name": "stdout",
          "text": [
            "[NbConvertApp] WARNING | pattern 'RNN_EffNet_Code.ipynb' matched no files\n",
            "This application is used to convert notebook files (*.ipynb)\n",
            "        to various other formats.\n",
            "\n",
            "        WARNING: THE COMMANDLINE INTERFACE MAY CHANGE IN FUTURE RELEASES.\n",
            "\n",
            "Options\n",
            "=======\n",
            "The options below are convenience aliases to configurable class-options,\n",
            "as listed in the \"Equivalent to\" description-line of the aliases.\n",
            "To see all configurable class-options for some <cmd>, use:\n",
            "    <cmd> --help-all\n",
            "\n",
            "--debug\n",
            "    set log level to logging.DEBUG (maximize logging output)\n",
            "    Equivalent to: [--Application.log_level=10]\n",
            "--show-config\n",
            "    Show the application's configuration (human-readable format)\n",
            "    Equivalent to: [--Application.show_config=True]\n",
            "--show-config-json\n",
            "    Show the application's configuration (json format)\n",
            "    Equivalent to: [--Application.show_config_json=True]\n",
            "--generate-config\n",
            "    generate default config file\n",
            "    Equivalent to: [--JupyterApp.generate_config=True]\n",
            "-y\n",
            "    Answer yes to any questions instead of prompting.\n",
            "    Equivalent to: [--JupyterApp.answer_yes=True]\n",
            "--execute\n",
            "    Execute the notebook prior to export.\n",
            "    Equivalent to: [--ExecutePreprocessor.enabled=True]\n",
            "--allow-errors\n",
            "    Continue notebook execution even if one of the cells throws an error and include the error message in the cell output (the default behaviour is to abort conversion). This flag is only relevant if '--execute' was specified, too.\n",
            "    Equivalent to: [--ExecutePreprocessor.allow_errors=True]\n",
            "--stdin\n",
            "    read a single notebook file from stdin. Write the resulting notebook with default basename 'notebook.*'\n",
            "    Equivalent to: [--NbConvertApp.from_stdin=True]\n",
            "--stdout\n",
            "    Write notebook output to stdout instead of files.\n",
            "    Equivalent to: [--NbConvertApp.writer_class=StdoutWriter]\n",
            "--inplace\n",
            "    Run nbconvert in place, overwriting the existing notebook (only\n",
            "            relevant when converting to notebook format)\n",
            "    Equivalent to: [--NbConvertApp.use_output_suffix=False --NbConvertApp.export_format=notebook --FilesWriter.build_directory=]\n",
            "--clear-output\n",
            "    Clear output of current file and save in place,\n",
            "            overwriting the existing notebook.\n",
            "    Equivalent to: [--NbConvertApp.use_output_suffix=False --NbConvertApp.export_format=notebook --FilesWriter.build_directory= --ClearOutputPreprocessor.enabled=True]\n",
            "--coalesce-streams\n",
            "    Coalesce consecutive stdout and stderr outputs into one stream (within each cell).\n",
            "    Equivalent to: [--NbConvertApp.use_output_suffix=False --NbConvertApp.export_format=notebook --FilesWriter.build_directory= --CoalesceStreamsPreprocessor.enabled=True]\n",
            "--no-prompt\n",
            "    Exclude input and output prompts from converted document.\n",
            "    Equivalent to: [--TemplateExporter.exclude_input_prompt=True --TemplateExporter.exclude_output_prompt=True]\n",
            "--no-input\n",
            "    Exclude input cells and output prompts from converted document.\n",
            "            This mode is ideal for generating code-free reports.\n",
            "    Equivalent to: [--TemplateExporter.exclude_output_prompt=True --TemplateExporter.exclude_input=True --TemplateExporter.exclude_input_prompt=True]\n",
            "--allow-chromium-download\n",
            "    Whether to allow downloading chromium if no suitable version is found on the system.\n",
            "    Equivalent to: [--WebPDFExporter.allow_chromium_download=True]\n",
            "--disable-chromium-sandbox\n",
            "    Disable chromium security sandbox when converting to PDF..\n",
            "    Equivalent to: [--WebPDFExporter.disable_sandbox=True]\n",
            "--show-input\n",
            "    Shows code input. This flag is only useful for dejavu users.\n",
            "    Equivalent to: [--TemplateExporter.exclude_input=False]\n",
            "--embed-images\n",
            "    Embed the images as base64 dataurls in the output. This flag is only useful for the HTML/WebPDF/Slides exports.\n",
            "    Equivalent to: [--HTMLExporter.embed_images=True]\n",
            "--sanitize-html\n",
            "    Whether the HTML in Markdown cells and cell outputs should be sanitized..\n",
            "    Equivalent to: [--HTMLExporter.sanitize_html=True]\n",
            "--log-level=<Enum>\n",
            "    Set the log level by value or name.\n",
            "    Choices: any of [0, 10, 20, 30, 40, 50, 'DEBUG', 'INFO', 'WARN', 'ERROR', 'CRITICAL']\n",
            "    Default: 30\n",
            "    Equivalent to: [--Application.log_level]\n",
            "--config=<Unicode>\n",
            "    Full path of a config file.\n",
            "    Default: ''\n",
            "    Equivalent to: [--JupyterApp.config_file]\n",
            "--to=<Unicode>\n",
            "    The export format to be used, either one of the built-in formats\n",
            "            ['asciidoc', 'custom', 'html', 'latex', 'markdown', 'notebook', 'pdf', 'python', 'qtpdf', 'qtpng', 'rst', 'script', 'slides', 'webpdf']\n",
            "            or a dotted object name that represents the import path for an\n",
            "            ``Exporter`` class\n",
            "    Default: ''\n",
            "    Equivalent to: [--NbConvertApp.export_format]\n",
            "--template=<Unicode>\n",
            "    Name of the template to use\n",
            "    Default: ''\n",
            "    Equivalent to: [--TemplateExporter.template_name]\n",
            "--template-file=<Unicode>\n",
            "    Name of the template file to use\n",
            "    Default: None\n",
            "    Equivalent to: [--TemplateExporter.template_file]\n",
            "--theme=<Unicode>\n",
            "    Template specific theme(e.g. the name of a JupyterLab CSS theme distributed\n",
            "    as prebuilt extension for the lab template)\n",
            "    Default: 'light'\n",
            "    Equivalent to: [--HTMLExporter.theme]\n",
            "--sanitize_html=<Bool>\n",
            "    Whether the HTML in Markdown cells and cell outputs should be sanitized.This\n",
            "    should be set to True by nbviewer or similar tools.\n",
            "    Default: False\n",
            "    Equivalent to: [--HTMLExporter.sanitize_html]\n",
            "--writer=<DottedObjectName>\n",
            "    Writer class used to write the\n",
            "                                        results of the conversion\n",
            "    Default: 'FilesWriter'\n",
            "    Equivalent to: [--NbConvertApp.writer_class]\n",
            "--post=<DottedOrNone>\n",
            "    PostProcessor class used to write the\n",
            "                                        results of the conversion\n",
            "    Default: ''\n",
            "    Equivalent to: [--NbConvertApp.postprocessor_class]\n",
            "--output=<Unicode>\n",
            "    Overwrite base name use for output files.\n",
            "                Supports pattern replacements '{notebook_name}'.\n",
            "    Default: '{notebook_name}'\n",
            "    Equivalent to: [--NbConvertApp.output_base]\n",
            "--output-dir=<Unicode>\n",
            "    Directory to write output(s) to. Defaults\n",
            "                                  to output to the directory of each notebook. To recover\n",
            "                                  previous default behaviour (outputting to the current\n",
            "                                  working directory) use . as the flag value.\n",
            "    Default: ''\n",
            "    Equivalent to: [--FilesWriter.build_directory]\n",
            "--reveal-prefix=<Unicode>\n",
            "    The URL prefix for reveal.js (version 3.x).\n",
            "            This defaults to the reveal CDN, but can be any url pointing to a copy\n",
            "            of reveal.js.\n",
            "            For speaker notes to work, this must be a relative path to a local\n",
            "            copy of reveal.js: e.g., \"reveal.js\".\n",
            "            If a relative path is given, it must be a subdirectory of the\n",
            "            current directory (from which the server is run).\n",
            "            See the usage documentation\n",
            "            (https://nbconvert.readthedocs.io/en/latest/usage.html#reveal-js-html-slideshow)\n",
            "            for more details.\n",
            "    Default: ''\n",
            "    Equivalent to: [--SlidesExporter.reveal_url_prefix]\n",
            "--nbformat=<Enum>\n",
            "    The nbformat version to write.\n",
            "            Use this to downgrade notebooks.\n",
            "    Choices: any of [1, 2, 3, 4]\n",
            "    Default: 4\n",
            "    Equivalent to: [--NotebookExporter.nbformat_version]\n",
            "\n",
            "Examples\n",
            "--------\n",
            "\n",
            "    The simplest way to use nbconvert is\n",
            "\n",
            "            > jupyter nbconvert mynotebook.ipynb --to html\n",
            "\n",
            "            Options include ['asciidoc', 'custom', 'html', 'latex', 'markdown', 'notebook', 'pdf', 'python', 'qtpdf', 'qtpng', 'rst', 'script', 'slides', 'webpdf'].\n",
            "\n",
            "            > jupyter nbconvert --to latex mynotebook.ipynb\n",
            "\n",
            "            Both HTML and LaTeX support multiple output templates. LaTeX includes\n",
            "            'base', 'article' and 'report'.  HTML includes 'basic', 'lab' and\n",
            "            'classic'. You can specify the flavor of the format used.\n",
            "\n",
            "            > jupyter nbconvert --to html --template lab mynotebook.ipynb\n",
            "\n",
            "            You can also pipe the output to stdout, rather than a file\n",
            "\n",
            "            > jupyter nbconvert mynotebook.ipynb --stdout\n",
            "\n",
            "            PDF is generated via latex\n",
            "\n",
            "            > jupyter nbconvert mynotebook.ipynb --to pdf\n",
            "\n",
            "            You can get (and serve) a Reveal.js-powered slideshow\n",
            "\n",
            "            > jupyter nbconvert myslides.ipynb --to slides --post serve\n",
            "\n",
            "            Multiple notebooks can be given at the command line in a couple of\n",
            "            different ways:\n",
            "\n",
            "            > jupyter nbconvert notebook*.ipynb\n",
            "            > jupyter nbconvert notebook1.ipynb notebook2.ipynb\n",
            "\n",
            "            or you can specify the notebooks list in a config file, containing::\n",
            "\n",
            "                c.NbConvertApp.notebooks = [\"my_notebook.ipynb\"]\n",
            "\n",
            "            > jupyter nbconvert --config mycfg.py\n",
            "\n",
            "To see all available configurables, use `--help-all`.\n",
            "\n"
          ]
        }
      ]
    },
    {
      "cell_type": "code",
      "source": [
        "!mv RNN_EffNet_Code.py /content/Arabic-OCR/src"
      ],
      "metadata": {
        "colab": {
          "base_uri": "https://localhost:8080/"
        },
        "id": "6c_LLPM5BcyC",
        "outputId": "f786e216-5841-465f-8f01-0ca3248e6bd6"
      },
      "execution_count": 9,
      "outputs": [
        {
          "output_type": "stream",
          "name": "stdout",
          "text": [
            "mv: cannot stat 'RNN_EffNet_Code.py': No such file or directory\n"
          ]
        }
      ]
    },
    {
      "cell_type": "code",
      "source": [
        "!ls\n"
      ],
      "metadata": {
        "colab": {
          "base_uri": "https://localhost:8080/"
        },
        "id": "wwwFcNGdCdiB",
        "outputId": "d860dedf-a16c-4699-84ae-8c948ffc6373"
      },
      "execution_count": 10,
      "outputs": [
        {
          "output_type": "stream",
          "name": "stdout",
          "text": [
            "character_segmentation.py  feature_extraction.py  output\t    test      utilities.py\n",
            "dataset.py\t\t   models\t\t  preprocessing.py  train.py\n",
            "edit.py\t\t\t   OCR.py\t\t  segmentation.py   truth\n"
          ]
        }
      ]
    },
    {
      "cell_type": "code",
      "source": [
        "%cd /content/drive/MyDrive/Colab Notebooks"
      ],
      "metadata": {
        "colab": {
          "base_uri": "https://localhost:8080/"
        },
        "id": "4PC55MuWCk26",
        "outputId": "3a9d250c-9398-4f33-dee9-a48a4bc36285"
      },
      "execution_count": 13,
      "outputs": [
        {
          "output_type": "stream",
          "name": "stdout",
          "text": [
            "/content/drive/MyDrive/Colab Notebooks\n"
          ]
        }
      ]
    },
    {
      "cell_type": "code",
      "source": [
        "!ls"
      ],
      "metadata": {
        "colab": {
          "base_uri": "https://localhost:8080/"
        },
        "id": "9VGS1i8xEybv",
        "outputId": "3e8b59a1-f9d5-41a9-c0f2-4c745e83f148"
      },
      "execution_count": 16,
      "outputs": [
        {
          "output_type": "stream",
          "name": "stdout",
          "text": [
            " 00_pytorch_fundmintals.ipynb\t\t\t LSTM_EffNet_Code.ipynb\n",
            " Admin_LSTM_Training.ipynb\t\t\t LSTM_EffNet_EarlyStopping_Code.ipynb\n",
            " AOCR_meeting_5-9-24.pptx\t\t\t MINSTsuryaOCR.py\n",
            " AOCRtrain.ipynb\t\t\t\t MINSTTesting.ipynb\n",
            "'Copy of functionizedEMINST.ipynb'\t\t paragraphGen.ipynb\n",
            "'Copy of PyTorch Lightning Introduction.ipynb'\t PyResNetAHCD.ipynb\n",
            "'Copy of TRAINING_A_CLASSIFIER_tutorial'\t ResNet_Dhad.ipynb\n",
            " Cor_EffNet_LSTM_Dhad.ipynb\t\t\t ResNetTraining.ipynb\n",
            " Counter_Output.ipynb\t\t\t\t ResNetusingAHCD.ipynb\n",
            " Counter_Project.ipynb\t\t\t\t RNN_EffNet_Code.ipynb\n",
            " DatasetGenerator.ipynb\t\t\t\t RNN_EffNet_Code.txt\n",
            " DenseNet.ipynb\t\t\t\t\t Segmentation_Code.ipynb\n",
            " DensNet_Dhad.ipynb\t\t\t\t SuryaOCRAHCD.ipynb\n",
            " Easy_OCR_Test.ipynb\t\t\t\t SuryaOCR.ipynb\n",
            " EfficientNet2.ipynb\t\t\t\t TinyVGGusingAHCD.ipynb\n",
            " EfficientNetAHCD.ipynb\t\t\t\t TinyVGGusingDhad.ipynb\n",
            " EfficientNet_Dhad.ipynb\t\t\t TRAINING_A_CLASSIFIER_tutorial.ipynb\n",
            " EfficientNet_Hijja.ipynb\t\t\t TrainingAhcd1.ipynb\n",
            " EffNet_LSTM_AOCR.ipynb\t\t\t\t Training_AOCR_Classifier.ipynb\n",
            " FunctionizedAhcd1.ipynb\t\t\t TrainingAOCR.ipynb\n",
            " functionizedEMINST.ipynb\t\t\t TrainingEMNISTdataset.ipynb\n",
            " HusseinYoussef.ipynb\t\t\t\t TrainingMINSTdataset.ipynb\n",
            " ImageSegmentation.ipynb\t\t\t Untitled0.ipynb\n",
            " KaggleWithGoColab.ipynb\t\t\t Untitled1.ipynb\n",
            " LettersCounter_2.ipynb\t\t\t\t Updated_RNN_EffNet_Code.ipynb\n",
            " lightningTest.ipynb\t\t\t\t VGGusingAHCD1.ipynb\n",
            " LSTM_AOCR.ipynb\n"
          ]
        }
      ]
    },
    {
      "cell_type": "code",
      "source": [
        "!jupyter nbconvert --to script RNN_EffNet_Code.ipynb"
      ],
      "metadata": {
        "colab": {
          "base_uri": "https://localhost:8080/"
        },
        "id": "SbxtV9naE5M4",
        "outputId": "de28fdda-6570-415d-fe58-bacb555e629a"
      },
      "execution_count": 17,
      "outputs": [
        {
          "output_type": "stream",
          "name": "stdout",
          "text": [
            "[NbConvertApp] Converting notebook RNN_EffNet_Code.ipynb to script\n",
            "[NbConvertApp] Writing 66809 bytes to RNN_EffNet_Code.txt\n"
          ]
        }
      ]
    },
    {
      "cell_type": "code",
      "source": [
        "!mv RNN_EffNet_Code.txt RNN_EffNet_Code.py"
      ],
      "metadata": {
        "id": "G5oKTrUUFtqJ"
      },
      "execution_count": 18,
      "outputs": []
    },
    {
      "cell_type": "code",
      "source": [
        "!ls"
      ],
      "metadata": {
        "colab": {
          "base_uri": "https://localhost:8080/"
        },
        "id": "3LZt80v5F3pM",
        "outputId": "448769fd-963c-42ce-d0a1-c7d5a821722b"
      },
      "execution_count": 19,
      "outputs": [
        {
          "output_type": "stream",
          "name": "stdout",
          "text": [
            " 00_pytorch_fundmintals.ipynb\t\t\t LSTM_EffNet_Code.ipynb\n",
            " Admin_LSTM_Training.ipynb\t\t\t LSTM_EffNet_EarlyStopping_Code.ipynb\n",
            " AOCR_meeting_5-9-24.pptx\t\t\t MINSTsuryaOCR.py\n",
            " AOCRtrain.ipynb\t\t\t\t MINSTTesting.ipynb\n",
            "'Copy of functionizedEMINST.ipynb'\t\t paragraphGen.ipynb\n",
            "'Copy of PyTorch Lightning Introduction.ipynb'\t PyResNetAHCD.ipynb\n",
            "'Copy of TRAINING_A_CLASSIFIER_tutorial'\t ResNet_Dhad.ipynb\n",
            " Cor_EffNet_LSTM_Dhad.ipynb\t\t\t ResNetTraining.ipynb\n",
            " Counter_Output.ipynb\t\t\t\t ResNetusingAHCD.ipynb\n",
            " Counter_Project.ipynb\t\t\t\t RNN_EffNet_Code.ipynb\n",
            " DatasetGenerator.ipynb\t\t\t\t RNN_EffNet_Code.py\n",
            " DenseNet.ipynb\t\t\t\t\t Segmentation_Code.ipynb\n",
            " DensNet_Dhad.ipynb\t\t\t\t SuryaOCRAHCD.ipynb\n",
            " Easy_OCR_Test.ipynb\t\t\t\t SuryaOCR.ipynb\n",
            " EfficientNet2.ipynb\t\t\t\t TinyVGGusingAHCD.ipynb\n",
            " EfficientNetAHCD.ipynb\t\t\t\t TinyVGGusingDhad.ipynb\n",
            " EfficientNet_Dhad.ipynb\t\t\t TRAINING_A_CLASSIFIER_tutorial.ipynb\n",
            " EfficientNet_Hijja.ipynb\t\t\t TrainingAhcd1.ipynb\n",
            " EffNet_LSTM_AOCR.ipynb\t\t\t\t Training_AOCR_Classifier.ipynb\n",
            " FunctionizedAhcd1.ipynb\t\t\t TrainingAOCR.ipynb\n",
            " functionizedEMINST.ipynb\t\t\t TrainingEMNISTdataset.ipynb\n",
            " HusseinYoussef.ipynb\t\t\t\t TrainingMINSTdataset.ipynb\n",
            " ImageSegmentation.ipynb\t\t\t Untitled0.ipynb\n",
            " KaggleWithGoColab.ipynb\t\t\t Untitled1.ipynb\n",
            " LettersCounter_2.ipynb\t\t\t\t Updated_RNN_EffNet_Code.ipynb\n",
            " lightningTest.ipynb\t\t\t\t VGGusingAHCD1.ipynb\n",
            " LSTM_AOCR.ipynb\n"
          ]
        }
      ]
    },
    {
      "cell_type": "code",
      "source": [
        "!mv RNN_EffNet_Code.py /content/Arabic-OCR/src"
      ],
      "metadata": {
        "id": "XTPfezdrGHi0"
      },
      "execution_count": 20,
      "outputs": []
    },
    {
      "cell_type": "code",
      "source": [
        "!ls /content/Arabic-OCR/src"
      ],
      "metadata": {
        "colab": {
          "base_uri": "https://localhost:8080/"
        },
        "id": "9RtioAXYGVcF",
        "outputId": "c9f10223-e318-479c-83b2-acd4900799de"
      },
      "execution_count": 21,
      "outputs": [
        {
          "output_type": "stream",
          "name": "stdout",
          "text": [
            "character_segmentation.py  feature_extraction.py  output\t      segmentation.py  truth\n",
            "dataset.py\t\t   models\t\t  preprocessing.py    test\t       utilities.py\n",
            "edit.py\t\t\t   OCR.py\t\t  RNN_EffNet_Code.py  train.py\n"
          ]
        }
      ]
    },
    {
      "cell_type": "code",
      "source": [
        "class EfficientNetRNNModel(nn.Module):\n",
        "    def __init__(self, num_classes, rnn_hidden_size=128, num_rnn_layers=1, nonlinearity='tanh'): #Added the nonlinearity argument to choose between tanh and relu (default is tanh).\n",
        "        super(EfficientNetRNNModel, self).__init__()\n",
        "\n",
        "        # Load EfficientNet B0 as feature extractor\n",
        "        efficientnet = models.efficientnet_b0(pretrained=True)\n",
        "\n",
        "        # Remove the last fully connected layer, we only need the feature extractor\n",
        "        self.feature_extractor = nn.Sequential(*list(efficientnet.children())[:-2])\n",
        "\n",
        "        # RNN layers\n",
        "        self.rnn = nn.RNN(input_size=1280, hidden_size=rnn_hidden_size, num_layers=num_rnn_layers,\n",
        "                          batch_first=True, nonlinearity=nonlinearity)\n",
        "\n",
        "        # Fully connected layer\n",
        "        self.fc = nn.Linear(rnn_hidden_size, num_classes)\n",
        "\n",
        "    def forward(self, x):\n",
        "        # EfficientNet feature extractor\n",
        "        x = self.feature_extractor(x)\n",
        "\n",
        "        # Reshape for RNN: (batch_size, channels, height, width) -> (batch_size, channels, height * width)\n",
        "        batch_size, channels, height, width = x.size()\n",
        "        x = x.view(batch_size, channels, height * width)  # (batch_size, channels, height * width)\n",
        "\n",
        "        # Transpose the dimensions to match RNN input: (batch_size, channels, height * width) -> (batch_size, height * width, channels)\n",
        "        x = x.permute(0, 2, 1)  # (batch_size, height * width, channels)\n",
        "\n",
        "        # RNN forward pass\n",
        "        x, _ = self.rnn(x)  # x: (batch_size, height * width, hidden_size)\n",
        "\n",
        "        # Select the last time step output\n",
        "        x = x[:, -1, :]  # (batch_size, hidden_size)\n",
        "\n",
        "        # Fully connected layer to get final class scores\n",
        "        x = self.fc(x)  # (batch_size, num_classes)\n",
        "\n",
        "        return x\n"
      ],
      "metadata": {
        "id": "uUWPRK_aWbo1"
      },
      "execution_count": 7,
      "outputs": []
    },
    {
      "cell_type": "code",
      "source": [
        "# Instantiate the model          ##ordered_class_list##\n",
        "model = EfficientNetRNNModel(len(class_names))"
      ],
      "metadata": {
        "colab": {
          "base_uri": "https://localhost:8080/"
        },
        "id": "1LZeEHXiydoA",
        "outputId": "3189ee2c-adce-4ddb-ebac-f6116cbb1e52"
      },
      "execution_count": null,
      "outputs": [
        {
          "output_type": "stream",
          "name": "stderr",
          "text": [
            "/usr/local/lib/python3.10/dist-packages/torchvision/models/_utils.py:208: UserWarning: The parameter 'pretrained' is deprecated since 0.13 and may be removed in the future, please use 'weights' instead.\n",
            "  warnings.warn(\n",
            "/usr/local/lib/python3.10/dist-packages/torchvision/models/_utils.py:223: UserWarning: Arguments other than a weight enum or `None` for 'weights' are deprecated since 0.13 and may be removed in the future. The current behavior is equivalent to passing `weights=EfficientNet_B0_Weights.IMAGENET1K_V1`. You can also use `weights=EfficientNet_B0_Weights.DEFAULT` to get the most up-to-date weights.\n",
            "  warnings.warn(msg)\n",
            "Downloading: \"https://download.pytorch.org/models/efficientnet_b0_rwightman-7f5810bc.pth\" to /root/.cache/torch/hub/checkpoints/efficientnet_b0_rwightman-7f5810bc.pth\n",
            "100%|██████████| 20.5M/20.5M [00:00<00:00, 156MB/s]\n"
          ]
        }
      ]
    },
    {
      "cell_type": "code",
      "source": [
        "# Set the manual seeds\n",
        "torch.manual_seed(42)\n",
        "torch.cuda.manual_seed(42)\n",
        "\n",
        "# Get the length of class_names (one output unit for each class)\n",
        "output_shape = len(class_names)\n",
        "\n",
        "# Recreate the classifier layer and seed it to the target device\n",
        "model.classifier = torch.nn.Sequential(\n",
        "    torch.nn.Dropout(p=0.2, inplace=True),\n",
        "    torch.nn.Linear(in_features=1280,\n",
        "                    out_features=output_shape, # same number of output units as our number of classes\n",
        "                    bias=True)).to(device)"
      ],
      "metadata": {
        "id": "bLNlgbbqo7gD"
      },
      "execution_count": null,
      "outputs": []
    },
    {
      "cell_type": "code",
      "source": [
        "# # Do a summary *after* freezing the features and changing the output classifier layer (uncomment for actual output)\n",
        "summary(model,\n",
        "        input_size=(32, 3, 224, 224), # make sure this is \"input_size\", not \"input_shape\" (batch_size, color_channels, height, width)\n",
        "        verbose=0,\n",
        "        col_names=[\"input_size\", \"output_size\", \"num_params\", \"trainable\"],\n",
        "        col_width=20,\n",
        "        row_settings=[\"var_names\"]\n",
        ")"
      ],
      "metadata": {
        "colab": {
          "base_uri": "https://localhost:8080/"
        },
        "id": "XMTgYIQVpXcC",
        "outputId": "8be41ce9-5079-4bbb-d306-01b25db4296d"
      },
      "execution_count": null,
      "outputs": [
        {
          "output_type": "execute_result",
          "data": {
            "text/plain": [
              "=================================================================================================================================================\n",
              "Layer (type (var_name))                                           Input Shape          Output Shape         Param #              Trainable\n",
              "=================================================================================================================================================\n",
              "EfficientNetRNNModel (EfficientNetRNNModel)                       [32, 3, 224, 224]    [32, 29]             37,149               True\n",
              "├─Sequential (feature_extractor)                                  [32, 3, 224, 224]    [32, 1280, 7, 7]     --                   True\n",
              "│    └─Sequential (0)                                             [32, 3, 224, 224]    [32, 1280, 7, 7]     --                   True\n",
              "│    │    └─Conv2dNormActivation (0)                              [32, 3, 224, 224]    [32, 32, 112, 112]   928                  True\n",
              "│    │    └─Sequential (1)                                        [32, 32, 112, 112]   [32, 16, 112, 112]   1,448                True\n",
              "│    │    └─Sequential (2)                                        [32, 16, 112, 112]   [32, 24, 56, 56]     16,714               True\n",
              "│    │    └─Sequential (3)                                        [32, 24, 56, 56]     [32, 40, 28, 28]     46,640               True\n",
              "│    │    └─Sequential (4)                                        [32, 40, 28, 28]     [32, 80, 14, 14]     242,930              True\n",
              "│    │    └─Sequential (5)                                        [32, 80, 14, 14]     [32, 112, 14, 14]    543,148              True\n",
              "│    │    └─Sequential (6)                                        [32, 112, 14, 14]    [32, 192, 7, 7]      2,026,348            True\n",
              "│    │    └─Sequential (7)                                        [32, 192, 7, 7]      [32, 320, 7, 7]      717,232              True\n",
              "│    │    └─Conv2dNormActivation (8)                              [32, 320, 7, 7]      [32, 1280, 7, 7]     412,160              True\n",
              "├─RNN (rnn)                                                       [32, 49, 1280]       [32, 49, 128]        180,480              True\n",
              "├─Linear (fc)                                                     [32, 128]            [32, 29]             3,741                True\n",
              "=================================================================================================================================================\n",
              "Total params: 4,228,918\n",
              "Trainable params: 4,228,918\n",
              "Non-trainable params: 0\n",
              "Total mult-adds (G): 12.59\n",
              "=================================================================================================================================================\n",
              "Input size (MB): 19.27\n",
              "Forward/backward pass size (MB): 3453.70\n",
              "Params size (MB): 16.77\n",
              "Estimated Total Size (MB): 3489.74\n",
              "================================================================================================================================================="
            ]
          },
          "metadata": {},
          "execution_count": 34
        }
      ]
    },
    {
      "cell_type": "code",
      "source": [
        "# Create train_step()\n",
        "def train_step(model: torch.nn.Module,\n",
        "               dataloader: torch.utils.data.DataLoader,\n",
        "               loss_fn: torch.nn.Module,\n",
        "               optimizer:torch.optim.Optimizer,\n",
        "               device=device):\n",
        "  # Put the model in train mode\n",
        "  model.train()\n",
        "\n",
        "  # Setup train loss and train accuracy values\n",
        "  train_loss, train_acc = 0, 0\n",
        "\n",
        "  # Loop through data loader data batches\n",
        "  for batch, (X, y) in enumerate(dataloader):\n",
        "    # Send data to the target device\n",
        "    X, y = X.to(device), y.to(device)\n",
        "\n",
        "    # 1. Forward pass\n",
        "    y_pred = model(X) # output model logits\n",
        "\n",
        "    # 2. Calculate the loss\n",
        "    loss = loss_fn(y_pred, y)\n",
        "    train_loss += loss.item()\n",
        "    # 3. Optimizer zero grad\n",
        "    optimizer.zero_grad()\n",
        "\n",
        "    # 4. Loss backward\n",
        "    loss.backward()\n",
        "\n",
        "    # 5. Optimizer step\n",
        "    optimizer.step()\n",
        "\n",
        "    # Calculate accuracy metric\n",
        "    y_pred_class = torch.argmax(torch.softmax(y_pred, dim=1), dim=1)\n",
        "    train_acc += (y_pred_class==y).sum().item()/len(y_pred)\n",
        "\n",
        "  # Adjust metrics to get average loss and accuracy per batch\n",
        "  train_loss = train_loss / len(dataloader)\n",
        "  train_acc = train_acc / len(dataloader)\n",
        "  return train_loss, train_acc"
      ],
      "metadata": {
        "id": "ROLVflxxNCDz"
      },
      "execution_count": null,
      "outputs": []
    },
    {
      "cell_type": "code",
      "source": [
        "# Create a test step\n",
        "def test_step(model: torch.nn.Module,\n",
        "              dataloader: torch.utils.data.DataLoader,\n",
        "              loss_fn: torch.nn.Module,\n",
        "              device=device):\n",
        "  # Put model in eval mode\n",
        "  model.eval()\n",
        "\n",
        "  # Setup test loss and test accuracy values\n",
        "  test_loss, test_acc = 0,  0\n",
        "\n",
        "  # Turn on inference mode\n",
        "  with torch.inference_mode():\n",
        "    # Loop through DataLoader batches\n",
        "    for batch, (X, y) in enumerate(dataloader):\n",
        "      # Send data to the target device\n",
        "      X, y = X.to(device), y.to(device)\n",
        "\n",
        "      # 1. Forward pass\n",
        "      test_pred_logits = model(X)\n",
        "\n",
        "      # 2. Calculate the loss\n",
        "      loss = loss_fn(test_pred_logits, y)\n",
        "      test_loss += loss.item()\n",
        "\n",
        "      # Calculate the accuracy\n",
        "      test_pred_labels = test_pred_logits.argmax(dim=1)\n",
        "      test_acc += ((test_pred_labels == y).sum().item()/len(test_pred_labels))\n",
        "\n",
        "  # Adjust metrics to get average loss and accuracy per batch\n",
        "  test_loss = test_loss / len(dataloader)\n",
        "  test_acc = test_acc / len(dataloader)\n",
        "  return test_loss, test_acc\n"
      ],
      "metadata": {
        "id": "cEMSPLiANHTh"
      },
      "execution_count": null,
      "outputs": []
    },
    {
      "cell_type": "code",
      "source": [
        "from tqdm.auto import tqdm\n",
        "# 1. Create a train function that takes in various model parameters + optimizer + dataloaders + loss function\n",
        "def train(model: torch.nn.Module,\n",
        "          train_dataloader,\n",
        "          test_dataloader,\n",
        "          optimizer,\n",
        "          loss_fn: torch.nn.Module = nn.CrossEntropyLoss(),\n",
        "          epochs: int = 5,\n",
        "          device=device):\n",
        "\n",
        "    # 2. Create empty results dictionary\n",
        "    results = {\"train_loss\": [],\n",
        "               \"train_acc\": [],\n",
        "               \"test_loss\": [],\n",
        "               \"test_acc\": []}\n",
        "\n",
        "    # 3. Loop through training and testing steps for a number of epochs\n",
        "    for epoch in tqdm(range(epochs)):\n",
        "        train_loss, train_acc = train_step(model=model,\n",
        "                                           dataloader=train_dataloader,\n",
        "                                           loss_fn=loss_fn,\n",
        "                                           optimizer=optimizer,\n",
        "                                           device=device)\n",
        "        test_loss, test_acc = test_step(model=model,\n",
        "                                        dataloader=test_dataloader,\n",
        "                                        loss_fn=loss_fn,\n",
        "                                        device=device)\n",
        "\n",
        "        # 4. Print out what's happening\n",
        "        print(f\"Epoch: {epoch} | Train loss: {train_loss:.4f} | Train acc: {train_acc:.4f} | Test loss: {test_loss:.4f} | Test acc: {test_acc:.4f}\")\n",
        "\n",
        "        # 5. Update results dictionary\n",
        "        results[\"train_loss\"].append(train_loss)\n",
        "        results[\"train_acc\"].append(train_acc)\n",
        "        results[\"test_loss\"].append(test_loss)\n",
        "        results[\"test_acc\"].append(test_acc)\n",
        "\n",
        "    # 6. Calculate and print the average metrics\n",
        "    avg_train_loss = sum(results[\"train_loss\"]) / len(results[\"train_loss\"])\n",
        "    avg_train_acc = sum(results[\"train_acc\"]) / len(results[\"train_acc\"])\n",
        "    avg_test_loss = sum(results[\"test_loss\"]) / len(results[\"test_loss\"])\n",
        "    avg_test_acc = sum(results[\"test_acc\"]) / len(results[\"test_acc\"])\n",
        "\n",
        "    print(\"\\n--- Average Metrics After Training ---\")\n",
        "    print(f\"Average Train Loss: {avg_train_loss:.4f}\")\n",
        "    print(f\"Average Train Accuracy: {avg_train_acc:.4f}\")\n",
        "    print(f\"Average Test Loss: {avg_test_loss:.4f}\")\n",
        "    print(f\"Average Test Accuracy: {avg_test_acc:.4f}\")\n",
        "\n",
        "    # 7. Return the filled results at the end of the epochs\n",
        "    return results"
      ],
      "metadata": {
        "id": "853HVXdPOyih"
      },
      "execution_count": null,
      "outputs": []
    },
    {
      "cell_type": "code",
      "source": [
        "# Define loss and optimizer\n",
        "loss_fn = nn.CrossEntropyLoss()\n",
        "#optimizer = torch.optim.ASGD(model.parameters(), lr=0.001)\n",
        "optimizer = torch.optim.Adam(model.parameters(), lr=0.001)"
      ],
      "metadata": {
        "id": "9In9JMCRppVl"
      },
      "execution_count": null,
      "outputs": []
    },
    {
      "cell_type": "code",
      "source": [
        "################ the run time take 48m\n",
        "# Set the random seeds\n",
        "\n",
        "torch.manual_seed(42)\n",
        "torch.cuda.manual_seed(42)\n",
        "\n",
        "# Start the timer\n",
        "from timeit import default_timer as timer\n",
        "start_time = timer()\n",
        "\n",
        "# Setup training and save the results\n",
        "results = train(model=model,\n",
        "                       train_dataloader=train_loaderr,\n",
        "                       test_dataloader=test_loaderr,\n",
        "                       optimizer=optimizer,\n",
        "                       loss_fn=loss_fn,\n",
        "                       epochs=30,\n",
        "                       device=device)\n",
        "\n",
        "# End the timer and print out how long it took\n",
        "end_time = timer()\n",
        "print(f\"[INFO] Total training time: {end_time-start_time:.3f} seconds\")"
      ],
      "metadata": {
        "colab": {
          "base_uri": "https://localhost:8080/",
          "height": 711,
          "referenced_widgets": [
            "f26c9a782e40417caa4056c29e8a6da2",
            "6dbb0b11dab7413983e9c04ecc7ae8be",
            "6fbccced5c0a41ada65fdbe4063d747a",
            "380ac176dfe9475ca01294a38a0a8e60",
            "6f9b930a6aed45e5ac0dcb419a9e22f1",
            "701301f1f48a47d7b4ee651dab55e214",
            "90e7db91cf7a4f3096872ec77875aa73",
            "74cd5082886d4bdc9f53d5eb6748739c",
            "7e1248b3c10c47d8b5bd10bc1046a041",
            "0009f88809e94bba9e5596edb165ebf8",
            "aeac5d0ee49947668d8547239273cb65"
          ]
        },
        "id": "oAXUPwxIpzLg",
        "outputId": "5ff6dd70-b92b-4ba1-fa5f-880da0b3413c"
      },
      "execution_count": null,
      "outputs": [
        {
          "data": {
            "application/vnd.jupyter.widget-view+json": {
              "model_id": "f26c9a782e40417caa4056c29e8a6da2",
              "version_major": 2,
              "version_minor": 0
            },
            "text/plain": [
              "  0%|          | 0/30 [00:00<?, ?it/s]"
            ]
          },
          "metadata": {},
          "output_type": "display_data"
        },
        {
          "output_type": "stream",
          "name": "stdout",
          "text": [
            "Epoch: 0 | Train loss: 1.3004 | Train acc: 0.6171 | Test loss: 0.5978 | Test acc: 0.8340\n",
            "Epoch: 1 | Train loss: 0.5529 | Train acc: 0.8390 | Test loss: 0.4704 | Test acc: 0.8691\n",
            "Epoch: 2 | Train loss: 0.4662 | Train acc: 0.8681 | Test loss: 0.3968 | Test acc: 0.8895\n",
            "Epoch: 3 | Train loss: 0.4171 | Train acc: 0.8831 | Test loss: 0.3776 | Test acc: 0.8955\n",
            "Epoch: 4 | Train loss: 0.3799 | Train acc: 0.8941 | Test loss: 0.4314 | Test acc: 0.8800\n",
            "Epoch: 5 | Train loss: 0.3842 | Train acc: 0.8927 | Test loss: 0.4337 | Test acc: 0.8796\n",
            "Epoch: 6 | Train loss: 0.3431 | Train acc: 0.9005 | Test loss: 0.4047 | Test acc: 0.8874\n",
            "Epoch: 7 | Train loss: 0.3347 | Train acc: 0.9055 | Test loss: 0.3687 | Test acc: 0.9019\n",
            "Epoch: 8 | Train loss: 0.3169 | Train acc: 0.9088 | Test loss: 0.3809 | Test acc: 0.8958\n",
            "Epoch: 9 | Train loss: 0.3166 | Train acc: 0.9098 | Test loss: 0.3896 | Test acc: 0.8962\n",
            "Epoch: 10 | Train loss: 0.3057 | Train acc: 0.9129 | Test loss: 0.3595 | Test acc: 0.9038\n",
            "Epoch: 11 | Train loss: 0.3018 | Train acc: 0.9141 | Test loss: 0.3294 | Test acc: 0.9118\n",
            "Epoch: 12 | Train loss: 0.3076 | Train acc: 0.9119 | Test loss: 0.3935 | Test acc: 0.8983\n",
            "Epoch: 13 | Train loss: 0.2979 | Train acc: 0.9169 | Test loss: 0.3749 | Test acc: 0.9060\n",
            "Epoch: 14 | Train loss: 0.2881 | Train acc: 0.9183 | Test loss: 0.3449 | Test acc: 0.9061\n",
            "Epoch: 15 | Train loss: 0.2927 | Train acc: 0.9164 | Test loss: 0.3172 | Test acc: 0.9171\n",
            "Epoch: 16 | Train loss: 0.2669 | Train acc: 0.9209 | Test loss: 0.3343 | Test acc: 0.9114\n",
            "Epoch: 17 | Train loss: 0.2540 | Train acc: 0.9284 | Test loss: 0.3070 | Test acc: 0.9175\n",
            "Epoch: 18 | Train loss: 0.2425 | Train acc: 0.9308 | Test loss: 0.3284 | Test acc: 0.9168\n",
            "Epoch: 19 | Train loss: 0.2334 | Train acc: 0.9312 | Test loss: 0.2975 | Test acc: 0.9200\n",
            "Epoch: 20 | Train loss: 0.2532 | Train acc: 0.9279 | Test loss: 0.3741 | Test acc: 0.9046\n",
            "Epoch: 21 | Train loss: 0.2423 | Train acc: 0.9312 | Test loss: 0.3153 | Test acc: 0.9164\n",
            "Epoch: 22 | Train loss: 0.2233 | Train acc: 0.9348 | Test loss: 0.3023 | Test acc: 0.9215\n",
            "Epoch: 23 | Train loss: 0.2355 | Train acc: 0.9316 | Test loss: 0.3386 | Test acc: 0.9160\n",
            "Epoch: 24 | Train loss: 0.2315 | Train acc: 0.9327 | Test loss: 0.3156 | Test acc: 0.9199\n",
            "Epoch: 25 | Train loss: 0.2220 | Train acc: 0.9357 | Test loss: 0.3123 | Test acc: 0.9211\n",
            "Epoch: 26 | Train loss: 0.2131 | Train acc: 0.9386 | Test loss: 0.3452 | Test acc: 0.9135\n",
            "Epoch: 27 | Train loss: 0.2210 | Train acc: 0.9356 | Test loss: 0.3059 | Test acc: 0.9207\n",
            "Epoch: 28 | Train loss: 0.2117 | Train acc: 0.9387 | Test loss: 0.3157 | Test acc: 0.9175\n",
            "Epoch: 29 | Train loss: 0.2075 | Train acc: 0.9382 | Test loss: 0.3143 | Test acc: 0.9195\n",
            "\n",
            "--- Average Metrics After Training ---\n",
            "Average Train Loss: 0.3288\n",
            "Average Train Accuracy: 0.9055\n",
            "Average Test Loss: 0.3626\n",
            "Average Test Accuracy: 0.9036\n",
            "[INFO] Total training time: 3599.428 seconds\n"
          ]
        }
      ]
    },
    {
      "cell_type": "code",
      "source": [
        "from google.colab import drive\n",
        "\n",
        "drive.mount('/content/drive')"
      ],
      "metadata": {
        "colab": {
          "base_uri": "https://localhost:8080/"
        },
        "id": "fcbFUpSiCFHl",
        "outputId": "66113b7c-5dbc-4975-e3fd-a4a6d5ebe2fc"
      },
      "execution_count": 11,
      "outputs": [
        {
          "output_type": "stream",
          "name": "stdout",
          "text": [
            "Mounted at /content/drive\n"
          ]
        }
      ]
    },
    {
      "cell_type": "code",
      "source": [
        "FILE = \"/content/drive/MyDrive/Saved_Models/new_save_model_rnn_eff_92.pth\""
      ],
      "metadata": {
        "id": "CWTbEmL4pzy3"
      },
      "execution_count": null,
      "outputs": []
    },
    {
      "cell_type": "code",
      "source": [
        "torch.save(model.state_dict(),FILE)"
      ],
      "metadata": {
        "id": "AJt2UDAApdSq"
      },
      "execution_count": null,
      "outputs": []
    },
    {
      "cell_type": "code",
      "source": [
        "import torch\n",
        "\n",
        "# Assuming `model` is your trained model\n",
        "model_path = \"/content/drive/MyDrive/Saved_Models/efficientnet_rnn_model_92.pth\"\n",
        "torch.save(model.state_dict(), model_path)\n",
        "\n",
        "print(f\"Model saved to {model_path}\")\n"
      ],
      "metadata": {
        "id": "WGb66ei6suEh"
      },
      "execution_count": null,
      "outputs": []
    },
    {
      "cell_type": "code",
      "source": [
        "# After training, save the model\n",
        "def save_model(model, path='/content/drive/MyDrive/Saved_Models/efficientnet_rnn_model_95.pth'):\n",
        "    torch.save(model.state_dict(), path)\n",
        "    print(f\"Model saved to {path}\")"
      ],
      "metadata": {
        "id": "1WyEqUKgMFNd"
      },
      "execution_count": null,
      "outputs": []
    },
    {
      "cell_type": "code",
      "source": [
        "# To load the saved model\n",
        "def load_model(path='efficientnet_rnn_model.pth'):\n",
        "    model = EfficientNetRNNModel(num_classes=len(class_names))\n",
        "    model.load_state_dict(torch.load(path))\n",
        "    model.eval()\n",
        "    return model"
      ],
      "metadata": {
        "id": "sP6Rui0FDjGU"
      },
      "execution_count": null,
      "outputs": []
    },
    {
      "cell_type": "code",
      "source": [
        "save_model(model, '/content/drive/MyDrive/Saved_Models/efficientnet_rnn_model_95.pth')"
      ],
      "metadata": {
        "id": "RWOOMgAgMLQD"
      },
      "execution_count": null,
      "outputs": []
    },
    {
      "cell_type": "code",
      "source": [
        "model.eval()\n",
        "save_model(model, '/content/drive/MyDrive/Saved_Models/efficientnet_rnn_model_eval_95.pth')"
      ],
      "metadata": {
        "id": "YdpJjjZWxxbp"
      },
      "execution_count": null,
      "outputs": []
    },
    {
      "cell_type": "code",
      "source": [
        "# Get the plot_loss_curves() function from helper_functions.py, download the file if we don't have it\n",
        "try:\n",
        "    from helper_functions import plot_loss_curves\n",
        "except:\n",
        "    print(\"[INFO] Couldn't find helper_functions.py, downloading...\")\n",
        "    with open(\"helper_functions.py\", \"wb\") as f:\n",
        "        import requests\n",
        "        request = requests.get(\"https://raw.githubusercontent.com/mrdbourke/pytorch-deep-learning/main/helper_functions.py\")\n",
        "        f.write(request.content)\n",
        "    from helper_functions import plot_loss_curves\n",
        "\n",
        "# Plot the loss curves of our model\n",
        "plot_loss_curves(results)"
      ],
      "metadata": {
        "id": "uNCBbqueqx60"
      },
      "execution_count": null,
      "outputs": []
    },
    {
      "cell_type": "code",
      "source": [
        "from typing import List, Tuple\n",
        "from PIL import Image\n",
        "\n",
        "def pred_and_plot_image(model: torch.nn.Module,\n",
        "                        image_path: str,\n",
        "                        class_names: List[str],\n",
        "                        image_size: Tuple[int, int] = (224, 224),\n",
        "                        transform: torchvision.transforms = None,\n",
        "                        device: torch.device = device):\n",
        "\n",
        "    # Open image\n",
        "    img = Image.open(image_path)\n",
        "\n",
        "    # Convert grayscale image to RGB if necessary\n",
        "    if img.mode != \"RGB\":\n",
        "        img = img.convert(\"RGB\")\n",
        "\n",
        "    # Create transformation for image\n",
        "    if transform is not None:\n",
        "        image_transform = transform\n",
        "    else:\n",
        "        image_transform = transforms.Compose([\n",
        "            transforms.Resize(image_size),\n",
        "            transforms.ToTensor(),\n",
        "            transforms.Normalize(mean=[0.485, 0.456, 0.406],\n",
        "                                 std=[0.229, 0.224, 0.225]),\n",
        "        ])\n",
        "\n",
        "    # Predict on image\n",
        "    model.to(device)\n",
        "    model.eval()\n",
        "    with torch.inference_mode():\n",
        "        transformed_image = image_transform(img).unsqueeze(dim=0)\n",
        "        target_image_pred = model(transformed_image.to(device))\n",
        "\n",
        "    # Convert logits -> prediction probabilities\n",
        "    target_image_pred_probs = torch.softmax(target_image_pred, dim=1)\n",
        "\n",
        "    # Convert prediction probabilities -> prediction labels\n",
        "    target_image_pred_label = torch.argmax(target_image_pred_probs, dim=1)\n",
        "\n",
        "    # Plot image with predicted label and probability\n",
        "    plt.figure()\n",
        "    plt.imshow(img)\n",
        "    plt.title(f\"Pred: {class_names[target_image_pred_label.item()]} | Prob: {target_image_pred_probs.max():.3f}\")\n",
        "    plt.axis(False)"
      ],
      "metadata": {
        "id": "GAcrJocxrOTJ"
      },
      "execution_count": null,
      "outputs": []
    },
    {
      "cell_type": "code",
      "source": [
        "# Get a random list of image paths from test set\n",
        "import random\n",
        "num_images_to_plot = 3\n",
        "test_image_path_list = list(Path(test_dir).glob(\"*/*.png\")) # get list all image paths from test data\n",
        "test_image_path_sample = random.sample(population=test_image_path_list, # go through all of the test image paths\n",
        "                                       k=num_images_to_plot) # randomly select 'k' image paths to pred and plot\n",
        "\n",
        "# Make predictions on and plot the images\n",
        "for image_path in test_image_path_sample:\n",
        "    pred_and_plot_image(model=model,\n",
        "                        image_path=image_path,\n",
        "                        class_names=class_names,\n",
        "                        #transform=weights.transforms(), # optionally pass in a specified transform from our pretrained model weights\n",
        "                        image_size=(224, 224))"
      ],
      "metadata": {
        "id": "6zF7nihtrW-7"
      },
      "execution_count": null,
      "outputs": []
    },
    {
      "cell_type": "code",
      "source": [
        "model = EfficientNetRNNModel(num_classes=29)  # Make sure to match the num_classes with your trained model\n",
        "#model.load_state_dict(torch.load(\"/content/drive/MyDrive/Saved_Models/efficientnet_rnn_model_95.pth\", strict=False))  # Load your trained model\n",
        "model.eval()\n"
      ],
      "metadata": {
        "id": "a_PFKpqrh2ED"
      },
      "execution_count": null,
      "outputs": []
    },
    {
      "cell_type": "code",
      "source": [
        "# Define the same transforms used during training\n",
        "# Load an image and apply transformations\n",
        "image = Image.open(\"/content/drive/MyDrive/Arabic_OCR_Tests/char_6.png\")\n",
        "input_tensor = transform(image).unsqueeze(0)  # Add batch dimension\n"
      ],
      "metadata": {
        "id": "VT30wzBci9Mh"
      },
      "execution_count": null,
      "outputs": []
    },
    {
      "cell_type": "code",
      "source": [
        "with torch.no_grad():  # Disable gradient calculations for inference\n",
        "    output = model(input_tensor)  # Forward pass\n"
      ],
      "metadata": {
        "id": "szdvccyxjjML"
      },
      "execution_count": null,
      "outputs": []
    },
    {
      "cell_type": "code",
      "source": [
        "# Get the predicted class index (highest score for each input in the batch)\n",
        "predicted_index = torch.argmax(output, dim=1).item()  # Use .item() to get Python int if single prediction\n",
        "print(\"Predicted class index:\", predicted_index)"
      ],
      "metadata": {
        "id": "3vssAZLHhnRT"
      },
      "execution_count": null,
      "outputs": []
    },
    {
      "cell_type": "code",
      "source": [
        "import cv2\n",
        "import os\n",
        "import numpy as np\n",
        "\n",
        "# Function to preprocess the image and create a binary representation\n",
        "def preprocess_image(image_path):\n",
        "    img = cv2.imread(image_path, cv2.IMREAD_GRAYSCALE)  # Load image in grayscale\n",
        "    _, binary_img = cv2.threshold(img, 128, 255, cv2.THRESH_BINARY_INV + cv2.THRESH_OTSU)  # Apply binary threshold\n",
        "    return binary_img\n",
        "\n",
        "# Function to perform segmentation of characters and save each segment as an image\n",
        "def segment_and_save_characters(binary_img, output_folder='segmented_characters'):\n",
        "    if not os.path.exists(output_folder):\n",
        "        os.makedirs(output_folder)  # Create the output directory if it doesn't exist\n",
        "\n",
        "    contours, _ = cv2.findContours(binary_img, cv2.RETR_EXTERNAL, cv2.CHAIN_APPROX_SIMPLE)\n",
        "\n",
        "    character_count = 0\n",
        "    for contour in contours:\n",
        "        x, y, w, h = cv2.boundingRect(contour)\n",
        "        if w > 5 and h > 5:  # Filter out small noise\n",
        "            char_img = binary_img[y:y + h, x:x + w]  # Crop character from image\n",
        "            char_img_resized = cv2.resize(char_img, (28, 28))  # Resize for consistency\n",
        "            character_count += 1\n",
        "            char_filename = os.path.join(output_folder, f'char_{character_count}.png')\n",
        "            cv2.imwrite(char_filename, char_img_resized)  # Save the character image\n",
        "            print(f'Saved character {character_count} as {char_filename}')\n",
        "\n",
        "# Main function to process the image and perform segmentation\n",
        "def process_image_and_save_segments(image_path, output_folder='segmented_characters'):\n",
        "    binary_img = preprocess_image(image_path)\n",
        "    segment_and_save_characters(binary_img, output_folder)\n",
        "\n",
        "# Path to the Arabic paragraph image\n",
        "image_path = '/content/drive/MyDrive/Arabic_OCR_Tests/arabic_paragraph_original.png'  # Update with your image path\n",
        "process_image_and_save_segments(image_path, output_folder='segmented_characters')\n"
      ],
      "metadata": {
        "id": "IoTAwPlYsRGR"
      },
      "execution_count": null,
      "outputs": []
    },
    {
      "cell_type": "code",
      "source": [
        "# Mapping model class names to Arabic characters\n",
        "class_name_to_arabic = {\n",
        "    '1-alif': 'ا', '2-baa': 'ب', '3-taa': 'ت', '4-thaa': 'ث', '5-jeem': 'ج',\n",
        "    '6-h_aa': 'ح', '7-khaa': 'خ', '8-dal': 'د', '9-thal': 'ذ', '10-raa': 'ر',\n",
        "    '11-zeyn': 'ز', '12-seen': 'س', '13-sheen': 'ش', '14-sad': 'ص', '15-dhad': 'ض',\n",
        "    '16-t_aa': 'ط', '17-th_aa': 'ظ', '18-ayen': 'ع', '19-ghayen': 'غ',\n",
        "    '20-faa': 'ف', '21-ghaf': 'ق', '22-kaf': 'ك', '23-lam': 'ل',\n",
        "    '24-meem': 'م', '25-noon': 'ن', '26-haa': 'ه', '27-waw': 'و', '28-yaa': 'ي',\n",
        "    '29-hamzah': 'ء'\n",
        "}\n"
      ],
      "metadata": {
        "id": "0gmhdFLHwO00"
      },
      "execution_count": null,
      "outputs": []
    },
    {
      "cell_type": "code",
      "source": [
        "# Convert index to class name and then to Arabic character\n",
        "predicted_class_name = list(class_name_to_arabic.keys())[predicted_index]\n",
        "predicted_arabic_character = class_name_to_arabic[predicted_class_name]\n",
        "print(\"Predicted Arabic Character:\", predicted_arabic_character)\n"
      ],
      "metadata": {
        "id": "7MTDG5r_jstV"
      },
      "execution_count": null,
      "outputs": []
    },
    {
      "cell_type": "code",
      "source": [
        "# Sample output from model prediction (this should be actual model output in your case)\n",
        "predicted_indices = [0, 1, 2, 3, 4]  # Replace this with actual model prediction output\n",
        "\n",
        "# Convert indices to class names, then to Arabic characters\n",
        "predicted_classes = [list(class_name_to_arabic.keys())[i] for i in predicted_indices]\n",
        "predicted_arabic_chars = [class_name_to_arabic[class_name] for class_name in predicted_classes]\n",
        "\n",
        "print(\"Predicted Arabic Characters:\", predicted_arabic_chars)\n"
      ],
      "metadata": {
        "id": "dvY_eQvywgRq"
      },
      "execution_count": null,
      "outputs": []
    },
    {
      "cell_type": "code",
      "source": [
        "import cv2\n",
        "# Function to preprocess the image and create a binary representation\n",
        "def preprocess_image(image_path):\n",
        "    img = cv2.imread(image_path, cv2.IMREAD_GRAYSCALE)  # Load image in grayscale\n",
        "    _, binary_img = cv2.threshold(img, 128, 255, cv2.THRESH_BINARY_INV + cv2.THRESH_OTSU)  # Apply binary threshold\n",
        "    return binary_img\n",
        "\n",
        "# Function to perform segmentation of characters and save each segment as an image\n",
        "def segment_and_save_characters(binary_img, output_folder='segmented_characters'):\n",
        "    if not os.path.exists(output_folder):\n",
        "        os.makedirs(output_folder)  # Create the output directory if it doesn't exist\n",
        "\n",
        "    contours, _ = cv2.findContours(binary_img, cv2.RETR_EXTERNAL, cv2.CHAIN_APPROX_SIMPLE)\n",
        "\n",
        "    character_count = 0\n",
        "    for contour in contours:\n",
        "        x, y, w, h = cv2.boundingRect(contour)\n",
        "        if w > 5 and h > 5:  # Filter out small noise\n",
        "            char_img = binary_img[y:y + h, x:x + w]  # Crop character from image\n",
        "            char_img_resized = cv2.resize(char_img, (28, 28))  # Resize for consistency\n",
        "            character_count += 1\n",
        "            char_filename = os.path.join(output_folder, f'char_{character_count}.png')\n",
        "            cv2.imwrite(char_filename, char_img_resized)  # Save the character image\n",
        "            print(f'Saved character {character_count} as {char_filename}')\n",
        "\n",
        "# Main function to process the image and perform segmentation\n",
        "def process_image_and_save_segments(image_path, output_folder='segmented_characters'):\n",
        "    binary_img = preprocess_image(image_path)\n",
        "    segment_and_save_characters(binary_img, output_folder)\n",
        "\n",
        "# Path to the Arabic paragraph image\n",
        "image_path = '/content/drive/MyDrive/Arabic_OCR_Tests/arabic_paragraph_original.png'  # Replace with your image path\n",
        "process_image_and_save_segments(image_path, output_folder='segmented_characters')\n"
      ],
      "metadata": {
        "id": "I-3ddCLty2BE"
      },
      "execution_count": null,
      "outputs": []
    },
    {
      "cell_type": "code",
      "source": [
        "from torch.utils.data import Dataset\n",
        "import csv\n",
        "\n",
        "class ArabicLetterDataset(Dataset):\n",
        "    def __init__(self, csv_file, transform=None):\n",
        "        self.data = []\n",
        "        self.labels = []\n",
        "        with open(csv_file, 'r', encoding='utf-8') as f:\n",
        "            next(f)  # Skip header\n",
        "            for line in f:\n",
        "                image_path, label = line.strip().split(',')\n",
        "                self.data.append(image_path)\n",
        "                self.labels.append(int(label))\n",
        "        self.transform = transform\n",
        "\n",
        "    def __len__(self):\n",
        "        return len(self.data)\n",
        "\n",
        "    def __getitem__(self, idx):\n",
        "        image = cv2.imread(self.data[idx], cv2.IMREAD_GRAYSCALE)\n",
        "        label = self.labels[idx]\n",
        "        if self.transform:\n",
        "            image = self.transform(image)\n",
        "        return image, label\n"
      ],
      "metadata": {
        "id": "whtNROWX2-cI"
      },
      "execution_count": null,
      "outputs": []
    },
    {
      "cell_type": "code",
      "source": [
        "import torch\n",
        "import torchvision.transforms as transforms\n",
        "from PIL import Image\n",
        "import os\n",
        "\n",
        "# Specify the image path in your Google Drive\n",
        "image_path = \"/content/drive/MyDrive/Arabic_OCR_Tests/char_6.png\"\n",
        "\n",
        "# Specify the path where you want to save the downloaded image in Colab\n",
        "save_directory = '/content/'\n",
        "save_filename = 'char_6.png'\n",
        "\n",
        "# Download and save the image\n",
        "transform = transforms.ToTensor()\n",
        "image = Image.open(image_path)\n",
        "image_tensor = transform(image)\n",
        "\n",
        "save_path = os.path.join(save_directory, save_filename)\n",
        "torchvision.utils.save_image(image_tensor, save_path)"
      ],
      "metadata": {
        "id": "dhZK6_dQyRw8"
      },
      "execution_count": null,
      "outputs": []
    },
    {
      "cell_type": "code",
      "source": [
        "import os\n",
        "import torchvision\n",
        "from pathlib import Path\n",
        "\n",
        "# Define the path of the image\n",
        "custom_image_path = \"/content/char_6.png\"\n",
        "\n",
        "# Check if the image file exists\n",
        "if os.path.isfile(custom_image_path):\n",
        "    # Read in custom image\n",
        "    custom_image_uint8 = torchvision.io.read_image(str(custom_image_path))\n",
        "\n",
        "    # Print out image data\n",
        "    print(f\"Custom image tensor:\\n{custom_image_uint8}\\n\")\n",
        "    print(f\"Custom image shape: {custom_image_uint8.shape}\\n\")\n",
        "    print(f\"Custom image dtype: {custom_image_uint8.dtype}\")\n",
        "else:\n",
        "    print(f\"The image file at {custom_image_path} does not exist.\")"
      ],
      "metadata": {
        "id": "nbVyy02ZyXFu"
      },
      "execution_count": null,
      "outputs": []
    },
    {
      "cell_type": "code",
      "source": [
        "import torchvision\n",
        "\n",
        "# Read in custom image\n",
        "custom_image_uint8 = torchvision.io.read_image(str(custom_image_path))\n",
        "\n",
        "# Print out image data\n",
        "print(f\"Custom image tensor:\\n{custom_image_uint8}\\n\")\n",
        "print(f\"Custom image shape: {custom_image_uint8.shape}\\n\")\n",
        "print(f\"Custom image dtype: {custom_image_uint8.dtype}\")"
      ],
      "metadata": {
        "id": "e4oUMLmU1LaQ"
      },
      "execution_count": null,
      "outputs": []
    },
    {
      "cell_type": "code",
      "source": [
        "# Load in custom image and convert the tensor values to float32\n",
        "custom_image = torchvision.io.read_image(str(custom_image_path)).type(torch.float32)\n",
        "\n",
        "# Divide the image pixel values by 255 to get them between [0, 1]\n",
        "custom_image = custom_image / 255.\n",
        "\n",
        "# Print out image data\n",
        "print(f\"Custom image tensor:\\n{custom_image}\\n\")\n",
        "print(f\"Custom image shape: {custom_image.shape}\\n\")\n",
        "print(f\"Custom image dtype: {custom_image.dtype}\")"
      ],
      "metadata": {
        "id": "0wNV8fN61Rxc"
      },
      "execution_count": null,
      "outputs": []
    },
    {
      "cell_type": "code",
      "source": [
        "# Plot custom image\n",
        "plt.imshow(custom_image.permute(1, 2, 0)) # need to permute image dimensions from CHW -> HWC otherwise matplotlib will error\n",
        "plt.title(f\"Image shape: {custom_image.shape}\")\n",
        "plt.axis(False);"
      ],
      "metadata": {
        "id": "Mdbcllol1DDs"
      },
      "execution_count": null,
      "outputs": []
    },
    {
      "cell_type": "code",
      "source": [
        "# Create transform pipleine to resize image\n",
        "custom_image_transform = transforms.Compose([\n",
        "    GrayscaleToRGB(),\n",
        "    transforms.Resize((224, 224)), # 1. Reshape all images to 224x224 (though some models may require different sizes)\n",
        "    transforms.ToTensor(), # 2. Turn image values to between 0 & 1\n",
        "    transforms.Normalize(mean=[0.485, 0.456, 0.406], # 3. A mean of [0.485, 0.456, 0.406] (across each colour channel)\n",
        "                         std=[0.229, 0.224, 0.225]) # 4. A standard deviation of [0.229, 0.224, 0.225] (across each colour channel),\n",
        "\n",
        "])\n",
        "# Transform target image\n",
        "custom_image_pil = transforms.ToPILImage()(custom_image)  # Convert tensor to PIL.Image\n",
        "custom_image_transformed = custom_image_transform(custom_image_pil)\n",
        "\n",
        "# Transform target image\n",
        "#custom_image_transformed = custom_image_transform(custom_image)\n",
        "\n",
        "# Print out original shape and new shape\n",
        "print(f\"Original shape: {custom_image.shape}\")\n",
        "print(f\"New shape: {custom_image_transformed.shape}\")"
      ],
      "metadata": {
        "id": "ynNYGKWg1m6c"
      },
      "execution_count": null,
      "outputs": []
    },
    {
      "cell_type": "code",
      "source": [
        "model.eval()\n",
        "with torch.inference_mode():\n",
        "    # Add an extra dimension to image\n",
        "    custom_image_transformed_with_batch_size = custom_image_transformed.unsqueeze(dim=0)\n",
        "\n",
        "    # Print out different shapes\n",
        "    print(f\"Custom image transformed shape: {custom_image_transformed.shape}\")\n",
        "    print(f\"Unsqueezed custom image shape: {custom_image_transformed_with_batch_size.shape}\")\n",
        "\n",
        "    # Make a prediction on image with an extra dimension\n",
        "    custom_image_pred = model(custom_image_transformed.unsqueeze(dim=0).to(device))"
      ],
      "metadata": {
        "id": "aDH28W7z5d38"
      },
      "execution_count": null,
      "outputs": []
    },
    {
      "cell_type": "code",
      "source": [
        "custom_image_pred"
      ],
      "metadata": {
        "id": "ND7kC-ZH5p0K"
      },
      "execution_count": null,
      "outputs": []
    },
    {
      "cell_type": "code",
      "source": [
        "# Print out prediction logits\n",
        "print(f\"Prediction logits: {custom_image_pred}\")\n",
        "\n",
        "# Convert logits -> prediction probabilities (using torch.softmax() for multi-class classification)\n",
        "custom_image_pred_probs = torch.softmax(custom_image_pred, dim=1)\n",
        "print(f\"Prediction probabilities: {custom_image_pred_probs}\")\n",
        "\n",
        "# Convert prediction probabilities -> prediction labels\n",
        "custom_image_pred_label = torch.argmax(custom_image_pred_probs, dim=1)\n",
        "print(f\"Prediction label: {custom_image_pred_label}\")"
      ],
      "metadata": {
        "id": "KGMl1rhB5ug4"
      },
      "execution_count": null,
      "outputs": []
    },
    {
      "cell_type": "code",
      "source": [
        "# Find the predicted label\n",
        "custom_image_pred_class = class_names[custom_image_pred_label.cpu()] # put pred label to CPU, otherwise will error\n",
        "custom_image_pred_class"
      ],
      "metadata": {
        "id": "9XqxHeOO52_X"
      },
      "execution_count": null,
      "outputs": []
    },
    {
      "cell_type": "code",
      "source": [
        "# The values of the prediction probabilities are quite similar\n",
        "custom_image_pred_probs"
      ],
      "metadata": {
        "id": "McZonbN458Lp"
      },
      "execution_count": null,
      "outputs": []
    },
    {
      "cell_type": "code",
      "source": [
        "# Predict on custom image\n",
        "pred_and_plot_image(model=model,\n",
        "                        image_path=custom_image_path,\n",
        "                        class_names=class_names,\n",
        "                        #transform=weights.transforms(), # optionally pass in a specified transform from our pretrained model weights\n",
        "                        image_size=(224, 224))"
      ],
      "metadata": {
        "id": "MagOHyUDEnlp"
      },
      "execution_count": null,
      "outputs": []
    },
    {
      "cell_type": "markdown",
      "source": [
        "Another testing for outside image"
      ],
      "metadata": {
        "id": "9WOWYVDPALRH"
      }
    },
    {
      "cell_type": "code",
      "source": [
        "# Specify the image path in your Google Drive\n",
        "image_path = \"/content/drive/MyDrive/Arabic_OCR_Tests/char_1.jpg\"\n",
        "\n",
        "# Specify the path where you want to save the downloaded image in Colab\n",
        "save_directory = '/content/'\n",
        "save_filename = 'char_1.jpg'\n",
        "\n",
        "# Download and save the image\n",
        "transform = transforms.ToTensor()\n",
        "image = Image.open(image_path)\n",
        "image_tensor = transform(image)\n",
        "\n",
        "save_path = os.path.join(save_directory, save_filename)\n",
        "torchvision.utils.save_image(image_tensor, save_path)"
      ],
      "metadata": {
        "id": "OTZhZQ6vAIY1"
      },
      "execution_count": null,
      "outputs": []
    },
    {
      "cell_type": "code",
      "source": [
        "import os\n",
        "import torchvision\n",
        "from pathlib import Path\n",
        "\n",
        "# Define the path of the image\n",
        "custom_image_path = \"/content/char_1.jpg\"\n",
        "\n",
        "# Check if the image file exists\n",
        "if os.path.isfile(custom_image_path):\n",
        "    # Read in custom image\n",
        "    custom_image_uint8 = torchvision.io.read_image(str(custom_image_path))\n",
        "\n",
        "    # Print out image data\n",
        "    print(f\"Custom image tensor:\\n{custom_image_uint8}\\n\")\n",
        "    print(f\"Custom image shape: {custom_image_uint8.shape}\\n\")\n",
        "    print(f\"Custom image dtype: {custom_image_uint8.dtype}\")\n",
        "else:\n",
        "    print(f\"The image file at {custom_image_path} does not exist.\")"
      ],
      "metadata": {
        "id": "hAyB1IwtAIY3"
      },
      "execution_count": null,
      "outputs": []
    },
    {
      "cell_type": "code",
      "source": [
        "import torchvision\n",
        "\n",
        "# Read in custom image\n",
        "custom_image_uint8 = torchvision.io.read_image(str(custom_image_path))\n",
        "\n",
        "# Print out image data\n",
        "print(f\"Custom image tensor:\\n{custom_image_uint8}\\n\")\n",
        "print(f\"Custom image shape: {custom_image_uint8.shape}\\n\")\n",
        "print(f\"Custom image dtype: {custom_image_uint8.dtype}\")"
      ],
      "metadata": {
        "id": "_1xeSzeIAIY4"
      },
      "execution_count": null,
      "outputs": []
    },
    {
      "cell_type": "code",
      "source": [
        "# Load in custom image and convert the tensor values to float32\n",
        "custom_image = torchvision.io.read_image(str(custom_image_path)).type(torch.float32)\n",
        "\n",
        "# Divide the image pixel values by 255 to get them between [0, 1]\n",
        "custom_image = custom_image / 255.\n",
        "\n",
        "# Print out image data\n",
        "print(f\"Custom image tensor:\\n{custom_image}\\n\")\n",
        "print(f\"Custom image shape: {custom_image.shape}\\n\")\n",
        "print(f\"Custom image dtype: {custom_image.dtype}\")"
      ],
      "metadata": {
        "id": "p9LS7jRlAIY5"
      },
      "execution_count": null,
      "outputs": []
    },
    {
      "cell_type": "code",
      "source": [
        "# Plot custom image\n",
        "plt.imshow(custom_image.permute(1, 2, 0)) # need to permute image dimensions from CHW -> HWC otherwise matplotlib will error\n",
        "plt.title(f\"Image shape: {custom_image.shape}\")\n",
        "plt.axis(False);"
      ],
      "metadata": {
        "id": "R8IGZ6LRAIY6"
      },
      "execution_count": null,
      "outputs": []
    },
    {
      "cell_type": "code",
      "source": [
        "# Create transform pipleine to resize image\n",
        "custom_image_transform = transforms.Compose([\n",
        "    GrayscaleToRGB(),\n",
        "    transforms.Resize((224, 224)), # 1. Reshape all images to 224x224 (though some models may require different sizes)\n",
        "    transforms.ToTensor(), # 2. Turn image values to between 0 & 1\n",
        "    transforms.Normalize(mean=[0.485, 0.456, 0.406], # 3. A mean of [0.485, 0.456, 0.406] (across each colour channel)\n",
        "                         std=[0.229, 0.224, 0.225]) # 4. A standard deviation of [0.229, 0.224, 0.225] (across each colour channel),\n",
        "\n",
        "])\n",
        "# Transform target image\n",
        "custom_image_pil = transforms.ToPILImage()(custom_image)  # Convert tensor to PIL.Image\n",
        "custom_image_transformed = custom_image_transform(custom_image_pil)\n",
        "\n",
        "# Transform target image\n",
        "#custom_image_transformed = custom_image_transform(custom_image)\n",
        "\n",
        "# Print out original shape and new shape\n",
        "print(f\"Original shape: {custom_image.shape}\")\n",
        "print(f\"New shape: {custom_image_transformed.shape}\")"
      ],
      "metadata": {
        "id": "-pth3ySEAIY7"
      },
      "execution_count": null,
      "outputs": []
    },
    {
      "cell_type": "code",
      "source": [
        "model.eval()\n",
        "with torch.inference_mode():\n",
        "    # Add an extra dimension to image\n",
        "    custom_image_transformed_with_batch_size = custom_image_transformed.unsqueeze(dim=0)\n",
        "\n",
        "    # Print out different shapes\n",
        "    print(f\"Custom image transformed shape: {custom_image_transformed.shape}\")\n",
        "    print(f\"Unsqueezed custom image shape: {custom_image_transformed_with_batch_size.shape}\")\n",
        "\n",
        "    # Make a prediction on image with an extra dimension\n",
        "    custom_image_pred = model(custom_image_transformed.unsqueeze(dim=0).to(device))"
      ],
      "metadata": {
        "id": "MEAG0D_2AIY9"
      },
      "execution_count": null,
      "outputs": []
    },
    {
      "cell_type": "code",
      "source": [
        "custom_image_pred"
      ],
      "metadata": {
        "id": "9pP3qt20AIY-"
      },
      "execution_count": null,
      "outputs": []
    },
    {
      "cell_type": "code",
      "source": [
        "# Print out prediction logits\n",
        "print(f\"Prediction logits: {custom_image_pred}\")\n",
        "\n",
        "# Convert logits -> prediction probabilities (using torch.softmax() for multi-class classification)\n",
        "custom_image_pred_probs = torch.softmax(custom_image_pred, dim=1)\n",
        "print(f\"Prediction probabilities: {custom_image_pred_probs}\")\n",
        "\n",
        "# Convert prediction probabilities -> prediction labels\n",
        "custom_image_pred_label = torch.argmax(custom_image_pred_probs, dim=1)\n",
        "print(f\"Prediction label: {custom_image_pred_label}\")"
      ],
      "metadata": {
        "id": "dyGgbnP_AIY_"
      },
      "execution_count": null,
      "outputs": []
    },
    {
      "cell_type": "code",
      "source": [
        "# Find the predicted label\n",
        "custom_image_pred_class = class_names[custom_image_pred_label.cpu()] # put pred label to CPU, otherwise will error\n",
        "custom_image_pred_class"
      ],
      "metadata": {
        "id": "c9rOQ8G2AIZB"
      },
      "execution_count": null,
      "outputs": []
    },
    {
      "cell_type": "code",
      "source": [
        "# Predict on custom image\n",
        "pred_and_plot_image(model=model,\n",
        "                        image_path=custom_image_path,\n",
        "                        class_names=class_names,\n",
        "                        #transform=weights.transforms(), # optionally pass in a specified transform from our pretrained model weights\n",
        "                        image_size=(224, 224))\n"
      ],
      "metadata": {
        "id": "09ukDRiiDHr-"
      },
      "execution_count": null,
      "outputs": []
    },
    {
      "cell_type": "code",
      "source": [],
      "metadata": {
        "id": "E89dCO-QIrsO"
      },
      "execution_count": null,
      "outputs": []
    },
    {
      "cell_type": "code",
      "source": [
        "# Specify the image path in your Google Drive\n",
        "image_path = \"/content/drive/MyDrive/Arabic_OCR_Tests/char_2.png\"\n",
        "\n",
        "# Specify the path where you want to save the downloaded image in Colab\n",
        "save_directory = '/content/'\n",
        "save_filename = 'char_2.png'\n",
        "\n",
        "# Download and save the image\n",
        "transform = transforms.ToTensor()\n",
        "image = Image.open(image_path)\n",
        "image_tensor = transform(image)\n",
        "\n",
        "save_path = os.path.join(save_directory, save_filename)\n",
        "torchvision.utils.save_image(image_tensor, save_path)"
      ],
      "metadata": {
        "id": "RPNsrrvrI-sY"
      },
      "execution_count": null,
      "outputs": []
    },
    {
      "cell_type": "code",
      "source": [
        "import os\n",
        "import torchvision\n",
        "from pathlib import Path\n",
        "\n",
        "# Define the path of the image\n",
        "custom_image_path = \"/content/char_2.png\"\n",
        "\n",
        "# Check if the image file exists\n",
        "if os.path.isfile(custom_image_path):\n",
        "    # Read in custom image\n",
        "    custom_image_uint8 = torchvision.io.read_image(str(custom_image_path))\n",
        "\n",
        "    # Print out image data\n",
        "    print(f\"Custom image tensor:\\n{custom_image_uint8}\\n\")\n",
        "    print(f\"Custom image shape: {custom_image_uint8.shape}\\n\")\n",
        "    print(f\"Custom image dtype: {custom_image_uint8.dtype}\")\n",
        "else:\n",
        "    print(f\"The image file at {custom_image_path} does not exist.\")"
      ],
      "metadata": {
        "id": "jEia6FmpI-se"
      },
      "execution_count": null,
      "outputs": []
    },
    {
      "cell_type": "code",
      "source": [
        "import torchvision\n",
        "\n",
        "# Read in custom image\n",
        "custom_image_uint8 = torchvision.io.read_image(str(custom_image_path))\n",
        "\n",
        "# Print out image data\n",
        "print(f\"Custom image tensor:\\n{custom_image_uint8}\\n\")\n",
        "print(f\"Custom image shape: {custom_image_uint8.shape}\\n\")\n",
        "print(f\"Custom image dtype: {custom_image_uint8.dtype}\")"
      ],
      "metadata": {
        "id": "Bb74UcwII-se"
      },
      "execution_count": null,
      "outputs": []
    },
    {
      "cell_type": "code",
      "source": [
        "# Load in custom image and convert the tensor values to float32\n",
        "custom_image = torchvision.io.read_image(str(custom_image_path)).type(torch.float32)\n",
        "\n",
        "# Divide the image pixel values by 255 to get them between [0, 1]\n",
        "custom_image = custom_image / 255.\n",
        "\n",
        "# Print out image data\n",
        "print(f\"Custom image tensor:\\n{custom_image}\\n\")\n",
        "print(f\"Custom image shape: {custom_image.shape}\\n\")\n",
        "print(f\"Custom image dtype: {custom_image.dtype}\")"
      ],
      "metadata": {
        "id": "L4vagA2OI-sf"
      },
      "execution_count": null,
      "outputs": []
    },
    {
      "cell_type": "code",
      "source": [
        "# Plot custom image\n",
        "plt.imshow(custom_image.permute(1, 2, 0)) # need to permute image dimensions from CHW -> HWC otherwise matplotlib will error\n",
        "plt.title(f\"Image shape: {custom_image.shape}\")\n",
        "plt.axis(False);"
      ],
      "metadata": {
        "id": "kVTO608JI-sf"
      },
      "execution_count": null,
      "outputs": []
    },
    {
      "cell_type": "code",
      "source": [
        "# Create transform pipleine to resize image\n",
        "custom_image_transform = transforms.Compose([\n",
        "    GrayscaleToRGB(),\n",
        "    transforms.Resize((224, 224)), # 1. Reshape all images to 224x224 (though some models may require different sizes)\n",
        "    transforms.ToTensor(), # 2. Turn image values to between 0 & 1\n",
        "    transforms.Normalize(mean=[0.485, 0.456, 0.406], # 3. A mean of [0.485, 0.456, 0.406] (across each colour channel)\n",
        "                         std=[0.229, 0.224, 0.225]) # 4. A standard deviation of [0.229, 0.224, 0.225] (across each colour channel),\n",
        "\n",
        "])\n",
        "# Transform target image\n",
        "custom_image_pil = transforms.ToPILImage()(custom_image)  # Convert tensor to PIL.Image\n",
        "custom_image_transformed = custom_image_transform(custom_image_pil)\n",
        "\n",
        "# Transform target image\n",
        "#custom_image_transformed = custom_image_transform(custom_image)\n",
        "\n",
        "# Print out original shape and new shape\n",
        "print(f\"Original shape: {custom_image.shape}\")\n",
        "print(f\"New shape: {custom_image_transformed.shape}\")"
      ],
      "metadata": {
        "id": "7HX-mgffI-sf"
      },
      "execution_count": null,
      "outputs": []
    },
    {
      "cell_type": "code",
      "source": [
        "model.eval()\n",
        "with torch.inference_mode():\n",
        "    # Add an extra dimension to image\n",
        "    custom_image_transformed_with_batch_size = custom_image_transformed.unsqueeze(dim=0)\n",
        "\n",
        "    # Print out different shapes\n",
        "    print(f\"Custom image transformed shape: {custom_image_transformed.shape}\")\n",
        "    print(f\"Unsqueezed custom image shape: {custom_image_transformed_with_batch_size.shape}\")\n",
        "\n",
        "    # Make a prediction on image with an extra dimension\n",
        "    custom_image_pred = model(custom_image_transformed.unsqueeze(dim=0).to(device))"
      ],
      "metadata": {
        "id": "FVz7wYy2I-sf"
      },
      "execution_count": null,
      "outputs": []
    },
    {
      "cell_type": "code",
      "source": [
        "custom_image_pred"
      ],
      "metadata": {
        "id": "eQoZ6NXWI-sf"
      },
      "execution_count": null,
      "outputs": []
    },
    {
      "cell_type": "code",
      "source": [
        "# Print out prediction logits\n",
        "print(f\"Prediction logits: {custom_image_pred}\")\n",
        "\n",
        "# Convert logits -> prediction probabilities (using torch.softmax() for multi-class classification)\n",
        "custom_image_pred_probs = torch.softmax(custom_image_pred, dim=1)\n",
        "print(f\"Prediction probabilities: {custom_image_pred_probs}\")\n",
        "\n",
        "# Convert prediction probabilities -> prediction labels\n",
        "custom_image_pred_label = torch.argmax(custom_image_pred_probs, dim=1)\n",
        "print(f\"Prediction label: {custom_image_pred_label}\")"
      ],
      "metadata": {
        "id": "Vtr-vDaKI-sf"
      },
      "execution_count": null,
      "outputs": []
    },
    {
      "cell_type": "code",
      "source": [
        "# Find the predicted label\n",
        "custom_image_pred_class = class_names[custom_image_pred_label.cpu()] # put pred label to CPU, otherwise will error\n",
        "custom_image_pred_class"
      ],
      "metadata": {
        "id": "Ww3oHDYhI-sg"
      },
      "execution_count": null,
      "outputs": []
    },
    {
      "cell_type": "code",
      "source": [
        "# Predict on custom image\n",
        "pred_and_plot_image(model=model,\n",
        "                        image_path=custom_image_path,\n",
        "                        class_names=class_names,\n",
        "                        #transform=weights.transforms(), # optionally pass in a specified transform from our pretrained model weights\n",
        "                        image_size=(224, 224))\n"
      ],
      "metadata": {
        "id": "gIWPOHzBI-sg"
      },
      "execution_count": null,
      "outputs": []
    },
    {
      "cell_type": "code",
      "source": [],
      "metadata": {
        "id": "-fDfSLADJiSL"
      },
      "execution_count": null,
      "outputs": []
    },
    {
      "cell_type": "code",
      "source": [
        "# Specify the image path in your Google Drive\n",
        "image_path = \"/content/drive/MyDrive/Arabic_OCR_Tests/char_16.png\"\n",
        "\n",
        "# Specify the path where you want to save the downloaded image in Colab\n",
        "save_directory = '/content/'\n",
        "save_filename = 'char_16.png'\n",
        "\n",
        "# Download and save the image\n",
        "transform = transforms.ToTensor()\n",
        "image = Image.open(image_path)\n",
        "image_tensor = transform(image)\n",
        "\n",
        "save_path = os.path.join(save_directory, save_filename)\n",
        "torchvision.utils.save_image(image_tensor, save_path)"
      ],
      "metadata": {
        "id": "2IndqgmFJimD"
      },
      "execution_count": null,
      "outputs": []
    },
    {
      "cell_type": "code",
      "source": [
        "import os\n",
        "import torchvision\n",
        "from pathlib import Path\n",
        "\n",
        "# Define the path of the image\n",
        "custom_image_path = \"/content/char_16.png\"\n",
        "\n",
        "# Check if the image file exists\n",
        "if os.path.isfile(custom_image_path):\n",
        "    # Read in custom image\n",
        "    custom_image_uint8 = torchvision.io.read_image(str(custom_image_path))\n",
        "\n",
        "    # Print out image data\n",
        "    print(f\"Custom image tensor:\\n{custom_image_uint8}\\n\")\n",
        "    print(f\"Custom image shape: {custom_image_uint8.shape}\\n\")\n",
        "    print(f\"Custom image dtype: {custom_image_uint8.dtype}\")\n",
        "else:\n",
        "    print(f\"The image file at {custom_image_path} does not exist.\")"
      ],
      "metadata": {
        "id": "zqzdK5W2JimE"
      },
      "execution_count": null,
      "outputs": []
    },
    {
      "cell_type": "code",
      "source": [
        "import torchvision\n",
        "\n",
        "# Read in custom image\n",
        "custom_image_uint8 = torchvision.io.read_image(str(custom_image_path))\n",
        "\n",
        "# Print out image data\n",
        "print(f\"Custom image tensor:\\n{custom_image_uint8}\\n\")\n",
        "print(f\"Custom image shape: {custom_image_uint8.shape}\\n\")\n",
        "print(f\"Custom image dtype: {custom_image_uint8.dtype}\")"
      ],
      "metadata": {
        "id": "6_ALn9deJimE"
      },
      "execution_count": null,
      "outputs": []
    },
    {
      "cell_type": "code",
      "source": [
        "# Load in custom image and convert the tensor values to float32\n",
        "custom_image = torchvision.io.read_image(str(custom_image_path)).type(torch.float32)\n",
        "\n",
        "# Divide the image pixel values by 255 to get them between [0, 1]\n",
        "custom_image = custom_image / 255.\n",
        "\n",
        "# Print out image data\n",
        "print(f\"Custom image tensor:\\n{custom_image}\\n\")\n",
        "print(f\"Custom image shape: {custom_image.shape}\\n\")\n",
        "print(f\"Custom image dtype: {custom_image.dtype}\")"
      ],
      "metadata": {
        "id": "9xZzS65ZJimF"
      },
      "execution_count": null,
      "outputs": []
    },
    {
      "cell_type": "code",
      "source": [
        "# Plot custom image\n",
        "plt.imshow(custom_image.permute(1, 2, 0)) # need to permute image dimensions from CHW -> HWC otherwise matplotlib will error\n",
        "plt.title(f\"Image shape: {custom_image.shape}\")\n",
        "plt.axis(False);"
      ],
      "metadata": {
        "id": "oBzQRcQIJimF"
      },
      "execution_count": null,
      "outputs": []
    },
    {
      "cell_type": "code",
      "source": [
        "# Create transform pipleine to resize image\n",
        "custom_image_transform = transforms.Compose([\n",
        "    GrayscaleToRGB(),\n",
        "    transforms.Resize((224, 224)), # 1. Reshape all images to 224x224 (though some models may require different sizes)\n",
        "    transforms.ToTensor(), # 2. Turn image values to between 0 & 1\n",
        "    transforms.Normalize(mean=[0.485, 0.456, 0.406], # 3. A mean of [0.485, 0.456, 0.406] (across each colour channel)\n",
        "                         std=[0.229, 0.224, 0.225]) # 4. A standard deviation of [0.229, 0.224, 0.225] (across each colour channel),\n",
        "\n",
        "])\n",
        "# Transform target image\n",
        "custom_image_pil = transforms.ToPILImage()(custom_image)  # Convert tensor to PIL.Image\n",
        "custom_image_transformed = custom_image_transform(custom_image_pil)\n",
        "\n",
        "# Transform target image\n",
        "#custom_image_transformed = custom_image_transform(custom_image)\n",
        "\n",
        "# Print out original shape and new shape\n",
        "print(f\"Original shape: {custom_image.shape}\")\n",
        "print(f\"New shape: {custom_image_transformed.shape}\")"
      ],
      "metadata": {
        "id": "V-ri85nGJimG"
      },
      "execution_count": null,
      "outputs": []
    },
    {
      "cell_type": "code",
      "source": [
        "model.eval()\n",
        "with torch.inference_mode():\n",
        "    # Add an extra dimension to image\n",
        "    custom_image_transformed_with_batch_size = custom_image_transformed.unsqueeze(dim=0)\n",
        "\n",
        "    # Print out different shapes\n",
        "    print(f\"Custom image transformed shape: {custom_image_transformed.shape}\")\n",
        "    print(f\"Unsqueezed custom image shape: {custom_image_transformed_with_batch_size.shape}\")\n",
        "\n",
        "    # Make a prediction on image with an extra dimension\n",
        "    custom_image_pred = model(custom_image_transformed.unsqueeze(dim=0).to(device))"
      ],
      "metadata": {
        "id": "05aZ8NAlJimG"
      },
      "execution_count": null,
      "outputs": []
    },
    {
      "cell_type": "code",
      "source": [
        "custom_image_pred"
      ],
      "metadata": {
        "id": "XpafT6znJimG"
      },
      "execution_count": null,
      "outputs": []
    },
    {
      "cell_type": "code",
      "source": [
        "# Print out prediction logits\n",
        "print(f\"Prediction logits: {custom_image_pred}\")\n",
        "\n",
        "# Convert logits -> prediction probabilities (using torch.softmax() for multi-class classification)\n",
        "custom_image_pred_probs = torch.softmax(custom_image_pred, dim=1)\n",
        "print(f\"Prediction probabilities: {custom_image_pred_probs}\")\n",
        "\n",
        "# Convert prediction probabilities -> prediction labels\n",
        "custom_image_pred_label = torch.argmax(custom_image_pred_probs, dim=1)\n",
        "print(f\"Prediction label: {custom_image_pred_label}\")"
      ],
      "metadata": {
        "id": "ngFI6QyPJimH"
      },
      "execution_count": null,
      "outputs": []
    },
    {
      "cell_type": "code",
      "source": [
        "# Find the predicted label\n",
        "custom_image_pred_class = class_names[custom_image_pred_label.cpu()] # put pred label to CPU, otherwise will error\n",
        "custom_image_pred_class"
      ],
      "metadata": {
        "id": "DlXl1CBGJimH"
      },
      "execution_count": null,
      "outputs": []
    },
    {
      "cell_type": "code",
      "source": [
        "# Predict on custom image\n",
        "pred_and_plot_image(model=model,\n",
        "                        image_path=custom_image_path,\n",
        "                        class_names=class_names,\n",
        "                        #transform=weights.transforms(), # optionally pass in a specified transform from our pretrained model weights\n",
        "                        image_size=(224, 224))\n"
      ],
      "metadata": {
        "id": "yrHUq7yaJimI"
      },
      "execution_count": null,
      "outputs": []
    },
    {
      "cell_type": "code",
      "source": [],
      "metadata": {
        "id": "_CCuggZwUmZH"
      },
      "execution_count": null,
      "outputs": []
    },
    {
      "cell_type": "code",
      "source": [
        "# Specify the image path in your Google Drive\n",
        "image_path = \"/content/drive/MyDrive/Arabic_OCR_Tests/char_28_c.png\"\n",
        "\n",
        "# Specify the path where you want to save the downloaded image in Colab\n",
        "save_directory = '/content/'\n",
        "save_filename = 'char_28_c.png'\n",
        "\n",
        "# Download and save the image\n",
        "transform = transforms.ToTensor()\n",
        "image = Image.open(image_path)\n",
        "image_tensor = transform(image)\n",
        "\n",
        "save_path = os.path.join(save_directory, save_filename)\n",
        "torchvision.utils.save_image(image_tensor, save_path)"
      ],
      "metadata": {
        "id": "8WPEG-ilUmrZ"
      },
      "execution_count": null,
      "outputs": []
    },
    {
      "cell_type": "code",
      "source": [
        "import os\n",
        "import torchvision\n",
        "from pathlib import Path\n",
        "\n",
        "# Define the path of the image\n",
        "custom_image_path = \"/content/char_28_c.png\"\n",
        "\n",
        "# Check if the image file exists\n",
        "if os.path.isfile(custom_image_path):\n",
        "    # Read in custom image\n",
        "    custom_image_uint8 = torchvision.io.read_image(str(custom_image_path))\n",
        "\n",
        "    # Print out image data\n",
        "    print(f\"Custom image tensor:\\n{custom_image_uint8}\\n\")\n",
        "    print(f\"Custom image shape: {custom_image_uint8.shape}\\n\")\n",
        "    print(f\"Custom image dtype: {custom_image_uint8.dtype}\")\n",
        "else:\n",
        "    print(f\"The image file at {custom_image_path} does not exist.\")"
      ],
      "metadata": {
        "id": "eD2KXmNhUmrb"
      },
      "execution_count": null,
      "outputs": []
    },
    {
      "cell_type": "code",
      "source": [
        "import torchvision\n",
        "\n",
        "# Read in custom image\n",
        "custom_image_uint8 = torchvision.io.read_image(str(custom_image_path))\n",
        "\n",
        "# Print out image data\n",
        "print(f\"Custom image tensor:\\n{custom_image_uint8}\\n\")\n",
        "print(f\"Custom image shape: {custom_image_uint8.shape}\\n\")\n",
        "print(f\"Custom image dtype: {custom_image_uint8.dtype}\")"
      ],
      "metadata": {
        "id": "8iocA9KrUmrc"
      },
      "execution_count": null,
      "outputs": []
    },
    {
      "cell_type": "code",
      "source": [
        "# Load in custom image and convert the tensor values to float32\n",
        "custom_image = torchvision.io.read_image(str(custom_image_path)).type(torch.float32)\n",
        "\n",
        "# Divide the image pixel values by 255 to get them between [0, 1]\n",
        "custom_image = custom_image / 255.\n",
        "\n",
        "# Print out image data\n",
        "print(f\"Custom image tensor:\\n{custom_image}\\n\")\n",
        "print(f\"Custom image shape: {custom_image.shape}\\n\")\n",
        "print(f\"Custom image dtype: {custom_image.dtype}\")"
      ],
      "metadata": {
        "id": "JVkBEqo2Umrd"
      },
      "execution_count": null,
      "outputs": []
    },
    {
      "cell_type": "code",
      "source": [
        "# Plot custom image\n",
        "plt.imshow(custom_image.permute(1, 2, 0)) # need to permute image dimensions from CHW -> HWC otherwise matplotlib will error\n",
        "plt.title(f\"Image shape: {custom_image.shape}\")\n",
        "plt.axis(False);"
      ],
      "metadata": {
        "id": "qwq8OopoUmre"
      },
      "execution_count": null,
      "outputs": []
    },
    {
      "cell_type": "code",
      "source": [
        "# Create transform pipleine to resize image\n",
        "custom_image_transform = transforms.Compose([\n",
        "    GrayscaleToRGB(),\n",
        "    transforms.Resize((224, 224)), # 1. Reshape all images to 224x224 (though some models may require different sizes)\n",
        "    transforms.ToTensor(), # 2. Turn image values to between 0 & 1\n",
        "    transforms.Normalize(mean=[0.485, 0.456, 0.406], # 3. A mean of [0.485, 0.456, 0.406] (across each colour channel)\n",
        "                         std=[0.229, 0.224, 0.225]) # 4. A standard deviation of [0.229, 0.224, 0.225] (across each colour channel),\n",
        "\n",
        "])\n",
        "# Transform target image\n",
        "custom_image_pil = transforms.ToPILImage()(custom_image)  # Convert tensor to PIL.Image\n",
        "custom_image_transformed = custom_image_transform(custom_image_pil)\n",
        "\n",
        "# Transform target image\n",
        "#custom_image_transformed = custom_image_transform(custom_image)\n",
        "\n",
        "# Print out original shape and new shape\n",
        "print(f\"Original shape: {custom_image.shape}\")\n",
        "print(f\"New shape: {custom_image_transformed.shape}\")"
      ],
      "metadata": {
        "id": "uFS6oLspUmre"
      },
      "execution_count": null,
      "outputs": []
    },
    {
      "cell_type": "code",
      "source": [
        "model.eval()\n",
        "with torch.inference_mode():\n",
        "    # Add an extra dimension to image\n",
        "    custom_image_transformed_with_batch_size = custom_image_transformed.unsqueeze(dim=0)\n",
        "\n",
        "    # Print out different shapes\n",
        "    print(f\"Custom image transformed shape: {custom_image_transformed.shape}\")\n",
        "    print(f\"Unsqueezed custom image shape: {custom_image_transformed_with_batch_size.shape}\")\n",
        "\n",
        "    # Make a prediction on image with an extra dimension\n",
        "    custom_image_pred = model(custom_image_transformed.unsqueeze(dim=0).to(device))"
      ],
      "metadata": {
        "id": "OY6GhVK8Umrf"
      },
      "execution_count": null,
      "outputs": []
    },
    {
      "cell_type": "code",
      "source": [
        "custom_image_pred"
      ],
      "metadata": {
        "id": "ahDI1Lu5Umrg"
      },
      "execution_count": null,
      "outputs": []
    },
    {
      "cell_type": "code",
      "source": [
        "# Print out prediction logits\n",
        "print(f\"Prediction logits: {custom_image_pred}\")\n",
        "\n",
        "# Convert logits -> prediction probabilities (using torch.softmax() for multi-class classification)\n",
        "custom_image_pred_probs = torch.softmax(custom_image_pred, dim=1)\n",
        "print(f\"Prediction probabilities: {custom_image_pred_probs}\")\n",
        "\n",
        "# Convert prediction probabilities -> prediction labels\n",
        "custom_image_pred_label = torch.argmax(custom_image_pred_probs, dim=1)\n",
        "print(f\"Prediction label: {custom_image_pred_label}\")"
      ],
      "metadata": {
        "id": "uo_lzUloUmrh"
      },
      "execution_count": null,
      "outputs": []
    },
    {
      "cell_type": "code",
      "source": [
        "# Find the predicted label\n",
        "custom_image_pred_class = class_names[custom_image_pred_label.cpu()] # put pred label to CPU, otherwise will error\n",
        "custom_image_pred_class"
      ],
      "metadata": {
        "id": "9jbRk98DUmrh"
      },
      "execution_count": null,
      "outputs": []
    },
    {
      "cell_type": "code",
      "source": [
        "# Predict on custom image\n",
        "pred_and_plot_image(model=model,\n",
        "                        image_path=custom_image_path,\n",
        "                        class_names=class_names,\n",
        "                        #transform=weights.transforms(), # optionally pass in a specified transform from our pretrained model weights\n",
        "                        image_size=(224, 224))\n"
      ],
      "metadata": {
        "id": "BqgKRtgoUmri"
      },
      "execution_count": null,
      "outputs": []
    },
    {
      "cell_type": "code",
      "source": [],
      "metadata": {
        "id": "3NAqbuTtU-HJ"
      },
      "execution_count": null,
      "outputs": []
    },
    {
      "cell_type": "code",
      "source": [
        "# Specify the image path in your Google Drive\n",
        "image_path = \"/content/drive/MyDrive/Arabic_OCR_Tests/char_25_c.png\"\n",
        "\n",
        "# Specify the path where you want to save the downloaded image in Colab\n",
        "save_directory = '/content/'\n",
        "save_filename = 'char_25_c.png'\n",
        "\n",
        "# Download and save the image\n",
        "transform = transforms.ToTensor()\n",
        "image = Image.open(image_path)\n",
        "image_tensor = transform(image)\n",
        "\n",
        "save_path = os.path.join(save_directory, save_filename)\n",
        "torchvision.utils.save_image(image_tensor, save_path)"
      ],
      "metadata": {
        "id": "A41oFFYnU-d-"
      },
      "execution_count": null,
      "outputs": []
    },
    {
      "cell_type": "code",
      "source": [
        "import os\n",
        "import torchvision\n",
        "from pathlib import Path\n",
        "\n",
        "# Define the path of the image\n",
        "custom_image_path = \"/content/char_25_c.png\"\n",
        "\n",
        "# Check if the image file exists\n",
        "if os.path.isfile(custom_image_path):\n",
        "    # Read in custom image\n",
        "    custom_image_uint8 = torchvision.io.read_image(str(custom_image_path))\n",
        "\n",
        "    # Print out image data\n",
        "    print(f\"Custom image tensor:\\n{custom_image_uint8}\\n\")\n",
        "    print(f\"Custom image shape: {custom_image_uint8.shape}\\n\")\n",
        "    print(f\"Custom image dtype: {custom_image_uint8.dtype}\")\n",
        "else:\n",
        "    print(f\"The image file at {custom_image_path} does not exist.\")"
      ],
      "metadata": {
        "id": "qQ8ux2U6U-d_"
      },
      "execution_count": null,
      "outputs": []
    },
    {
      "cell_type": "code",
      "source": [
        "import torchvision\n",
        "\n",
        "# Read in custom image\n",
        "custom_image_uint8 = torchvision.io.read_image(str(custom_image_path))\n",
        "\n",
        "# Print out image data\n",
        "print(f\"Custom image tensor:\\n{custom_image_uint8}\\n\")\n",
        "print(f\"Custom image shape: {custom_image_uint8.shape}\\n\")\n",
        "print(f\"Custom image dtype: {custom_image_uint8.dtype}\")"
      ],
      "metadata": {
        "id": "IdmRawlGU-d_"
      },
      "execution_count": null,
      "outputs": []
    },
    {
      "cell_type": "code",
      "source": [
        "# Load in custom image and convert the tensor values to float32\n",
        "custom_image = torchvision.io.read_image(str(custom_image_path)).type(torch.float32)\n",
        "\n",
        "# Divide the image pixel values by 255 to get them between [0, 1]\n",
        "custom_image = custom_image / 255.\n",
        "\n",
        "# Print out image data\n",
        "print(f\"Custom image tensor:\\n{custom_image}\\n\")\n",
        "print(f\"Custom image shape: {custom_image.shape}\\n\")\n",
        "print(f\"Custom image dtype: {custom_image.dtype}\")"
      ],
      "metadata": {
        "id": "D7OqNFhXU-d_"
      },
      "execution_count": null,
      "outputs": []
    },
    {
      "cell_type": "code",
      "source": [
        "# Plot custom image\n",
        "plt.imshow(custom_image.permute(1, 2, 0)) # need to permute image dimensions from CHW -> HWC otherwise matplotlib will error\n",
        "plt.title(f\"Image shape: {custom_image.shape}\")\n",
        "plt.axis(False);"
      ],
      "metadata": {
        "id": "olxd_yD_U-d_"
      },
      "execution_count": null,
      "outputs": []
    },
    {
      "cell_type": "code",
      "source": [
        "# Create transform pipleine to resize image\n",
        "custom_image_transform = transforms.Compose([\n",
        "    GrayscaleToRGB(),\n",
        "    transforms.Resize((224, 224)), # 1. Reshape all images to 224x224 (though some models may require different sizes)\n",
        "    transforms.ToTensor(), # 2. Turn image values to between 0 & 1\n",
        "    transforms.Normalize(mean=[0.485, 0.456, 0.406], # 3. A mean of [0.485, 0.456, 0.406] (across each colour channel)\n",
        "                         std=[0.229, 0.224, 0.225]) # 4. A standard deviation of [0.229, 0.224, 0.225] (across each colour channel),\n",
        "\n",
        "])\n",
        "# Transform target image\n",
        "custom_image_pil = transforms.ToPILImage()(custom_image)  # Convert tensor to PIL.Image\n",
        "custom_image_transformed = custom_image_transform(custom_image_pil)\n",
        "\n",
        "# Transform target image\n",
        "#custom_image_transformed = custom_image_transform(custom_image)\n",
        "\n",
        "# Print out original shape and new shape\n",
        "print(f\"Original shape: {custom_image.shape}\")\n",
        "print(f\"New shape: {custom_image_transformed.shape}\")"
      ],
      "metadata": {
        "id": "Fj2nFeTtU-eA"
      },
      "execution_count": null,
      "outputs": []
    },
    {
      "cell_type": "code",
      "source": [
        "model.eval()\n",
        "with torch.inference_mode():\n",
        "    # Add an extra dimension to image\n",
        "    custom_image_transformed_with_batch_size = custom_image_transformed.unsqueeze(dim=0)\n",
        "\n",
        "    # Print out different shapes\n",
        "    print(f\"Custom image transformed shape: {custom_image_transformed.shape}\")\n",
        "    print(f\"Unsqueezed custom image shape: {custom_image_transformed_with_batch_size.shape}\")\n",
        "\n",
        "    # Make a prediction on image with an extra dimension\n",
        "    custom_image_pred = model(custom_image_transformed.unsqueeze(dim=0).to(device))"
      ],
      "metadata": {
        "id": "WFJYh6u6U-eA"
      },
      "execution_count": null,
      "outputs": []
    },
    {
      "cell_type": "code",
      "source": [
        "custom_image_pred"
      ],
      "metadata": {
        "id": "Ty1OHl8YU-eA"
      },
      "execution_count": null,
      "outputs": []
    },
    {
      "cell_type": "code",
      "source": [
        "# Print out prediction logits\n",
        "print(f\"Prediction logits: {custom_image_pred}\")\n",
        "\n",
        "# Convert logits -> prediction probabilities (using torch.softmax() for multi-class classification)\n",
        "custom_image_pred_probs = torch.softmax(custom_image_pred, dim=1)\n",
        "print(f\"Prediction probabilities: {custom_image_pred_probs}\")\n",
        "\n",
        "# Convert prediction probabilities -> prediction labels\n",
        "custom_image_pred_label = torch.argmax(custom_image_pred_probs, dim=1)\n",
        "print(f\"Prediction label: {custom_image_pred_label}\")"
      ],
      "metadata": {
        "id": "715bw8BxU-eA"
      },
      "execution_count": null,
      "outputs": []
    },
    {
      "cell_type": "code",
      "source": [
        "# Find the predicted label\n",
        "custom_image_pred_class = class_names[custom_image_pred_label.cpu()] # put pred label to CPU, otherwise will error\n",
        "custom_image_pred_class"
      ],
      "metadata": {
        "id": "KZlUoKL4U-eA"
      },
      "execution_count": null,
      "outputs": []
    },
    {
      "cell_type": "code",
      "source": [
        "# Predict on custom image\n",
        "pred_and_plot_image(model=model,\n",
        "                        image_path=custom_image_path,\n",
        "                        class_names=class_names,\n",
        "                        #transform=weights.transforms(), # optionally pass in a specified transform from our pretrained model weights\n",
        "                        image_size=(224, 224))\n"
      ],
      "metadata": {
        "id": "Cz_WWjjaU-eA"
      },
      "execution_count": null,
      "outputs": []
    },
    {
      "cell_type": "markdown",
      "source": [
        "# **Making a confusion matrix for further prediction evaluation**\n",
        "source code\n",
        "\"https://colab.research.google.com/github/mrdbourke/pytorch-deep-learning/blob/main/03_pytorch_computer_vision.ipynb#scrollTo=ab108078-6770-4cb9-ac62-a761ff159aba\""
      ],
      "metadata": {
        "id": "PGcX4SV5bmDT"
      }
    },
    {
      "cell_type": "code",
      "execution_count": null,
      "metadata": {
        "id": "065b8090-c9c5-43df-b5c1-b45ba33af1be"
      },
      "outputs": [],
      "source": [
        "# Import tqdm for progress bar\n",
        "from tqdm.auto import tqdm\n",
        "\n",
        "# 1. Make predictions with trained model\n",
        "y_preds = []\n",
        "model.eval()\n",
        "with torch.inference_mode():\n",
        "  for X, y in tqdm(test_loaderr, desc=\"Making predictions\"):\n",
        "    # Send data and targets to target device\n",
        "    X, y = X.to(device), y.to(device)\n",
        "    # Do the forward pass\n",
        "    y_logit = model(X)\n",
        "    # Turn predictions from logits -> prediction probabilities -> predictions labels\n",
        "    y_pred = torch.softmax(y_logit, dim=1).argmax(dim=1) # note: perform softmax on the \"logits\" dimension, not \"batch\" dimension (in this case we have a batch size of 32, so can perform on dim=1)\n",
        "    # Put predictions on CPU for evaluation\n",
        "    y_preds.append(y_pred.cpu())\n",
        "# Concatenate list of predictions into a tensor\n",
        "y_pred_tensor = torch.cat(y_preds)"
      ]
    },
    {
      "cell_type": "code",
      "execution_count": null,
      "metadata": {
        "id": "e6c0a05d-d3e0-4b86-9ef7-ee6ea5629b07"
      },
      "outputs": [],
      "source": [
        "# See if torchmetrics exists, if not, install it\n",
        "try:\n",
        "    import torchmetrics, mlxtend\n",
        "    print(f\"mlxtend version: {mlxtend.__version__}\")\n",
        "    assert int(mlxtend.__version__.split(\".\")[1]) >= 19, \"mlxtend verison should be 0.19.0 or higher\"\n",
        "except:\n",
        "    !pip install -q torchmetrics -U mlxtend # <- Note: If you're using Google Colab, this may require restarting the runtime\n",
        "    import torchmetrics, mlxtend\n",
        "    print(f\"mlxtend version: {mlxtend.__version__}\")"
      ]
    },
    {
      "cell_type": "code",
      "execution_count": null,
      "metadata": {
        "id": "21383f88-a2dd-4678-94c6-479c592da0ab"
      },
      "outputs": [],
      "source": [
        "# Import mlxtend upgraded version\n",
        "import mlxtend\n",
        "print(mlxtend.__version__)\n",
        "assert int(mlxtend.__version__.split(\".\")[1]) >= 19 # should be version 0.19.0 or higher"
      ]
    },
    {
      "cell_type": "code",
      "source": [
        "# Convert to tensors if they are lists\n",
        "if isinstance(y_pred_tensor, list):\n",
        "    y_pred_tensor = torch.tensor(y_pred_tensor)\n",
        "\n",
        "if isinstance(test_dataset.targets, list):\n",
        "    test_dataset.targets = torch.tensor(test_dataset.targets)\n"
      ],
      "metadata": {
        "id": "jtiMKYNdxERl"
      },
      "execution_count": null,
      "outputs": []
    },
    {
      "cell_type": "code",
      "execution_count": null,
      "metadata": {
        "id": "7aed6d76-ad1c-429e-b8e0-c80572e3ebf4"
      },
      "outputs": [],
      "source": [
        "from torchmetrics import ConfusionMatrix\n",
        "from mlxtend.plotting import plot_confusion_matrix\n",
        "\n",
        "# 2. Setup confusion matrix instance and compare predictions to targets\n",
        "confmat = ConfusionMatrix(num_classes=len(class_names), task='multiclass')\n",
        "confmat_tensor = confmat(preds=y_pred_tensor,\n",
        "                         target=test_dataset.targets)\n",
        "\n",
        "# 3. Plot the confusion matrix\n",
        "fig, ax = plot_confusion_matrix(\n",
        "    conf_mat=confmat_tensor.numpy(), # matplotlib likes working with NumPy\n",
        "    class_names=class_names, # turn the row and column labels into class names\n",
        "    figsize=(20, 14)\n",
        ");"
      ]
    },
    {
      "cell_type": "code",
      "execution_count": null,
      "metadata": {
        "id": "gjbpUSF5hybP"
      },
      "outputs": [],
      "source": [
        "# Number of classes\n",
        "num_classes = len(class_names)\n",
        "\n",
        "# Initialize model, loss function, and optimizer\n",
        "model = EfficientNetRNNModel(num_classes=num_classes)\n",
        "criterion = nn.CrossEntropyLoss()\n",
        "optimizer = optim.Adam(model.parameters(), lr=0.001)\n",
        "\n",
        "# Training the model\n",
        "num_epochs = 30\n",
        "device = torch.device(\"cuda\" if torch.cuda.is_available() else \"cpu\")\n",
        "print(device)\n",
        "model.to(device)\n",
        "for epoch in range(num_epochs):\n",
        "    # Training phase\n",
        "    model.train()\n",
        "    running_loss = 0.0\n",
        "    y_true_train = []\n",
        "    y_pred_train = []\n",
        "\n",
        "    for images, labels in train_loaderr:\n",
        "        images, labels = images.to(device), labels.to(device)\n",
        "\n",
        "        optimizer.zero_grad()\n",
        "        outputs = model(images)\n",
        "        loss = criterion(outputs, labels)\n",
        "        loss.backward()\n",
        "        optimizer.step()\n",
        "\n",
        "        running_loss += loss.item()\n",
        "\n",
        "        _, predicted = torch.max(outputs, 1)\n",
        "        y_true_train.extend(labels.cpu().numpy())\n",
        "        y_pred_train.extend(predicted.cpu().numpy())\n",
        "\n",
        "    train_loss = running_loss / len(train_loaderr)\n",
        "    train_accuracy = accuracy_score(y_true_train, y_pred_train)\n",
        "    train_precision = precision_score(y_true_train, y_pred_train, average='macro', zero_division=0)\n",
        "    train_recall = recall_score(y_true_train, y_pred_train, average='macro', zero_division=0)\n",
        "    train_f1 = f1_score(y_true_train, y_pred_train, average='macro', zero_division=0)\n",
        "\n",
        "    print(f\"Epoch [{epoch + 1}/{num_epochs}], Train Loss: {train_loss:.4f}, Train Accuracy: {train_accuracy:.4f}, \"\n",
        "          f\"Train Precision: {train_precision:.4f}, Train Recall: {train_recall:.4f}, Train F1 Score: {train_f1:.4f}\")"
      ]
    },
    {
      "cell_type": "code",
      "source": [
        "# Number of classes\n",
        "num_classes = len(class_names)\n",
        "\n",
        "# Initialize model, loss function, and optimizer\n",
        "model = EfficientNetRNNModel(num_classes=num_classes)\n",
        "criterion = nn.CrossEntropyLoss()\n",
        "optimizer = optim.Adam(model.parameters(), lr=0.001)\n",
        "\n",
        "# Training the model\n",
        "num_epochs = 30\n",
        "device = torch.device(\"cuda\" if torch.cuda.is_available() else \"cpu\")\n",
        "print(device)\n",
        "model.to(device)\n",
        "for epoch in range(num_epochs):\n",
        "    # Training phase\n",
        "    model.train()\n",
        "    running_loss = 0.0\n",
        "    y_true_test = []\n",
        "    y_pred_test = []\n",
        "\n",
        "    for images, labels in test_loaderr:\n",
        "        images, labels = images.to(device), labels.to(device)\n",
        "\n",
        "        optimizer.zero_grad()\n",
        "        outputs = model(images)\n",
        "        loss = criterion(outputs, labels)\n",
        "        loss.backward()\n",
        "        optimizer.step()\n",
        "\n",
        "        running_loss += loss.item()\n",
        "\n",
        "        _, predicted = torch.max(outputs, 1)\n",
        "        y_true_test.extend(labels.cpu().numpy())\n",
        "        y_pred_test.extend(predicted.cpu().numpy())\n",
        "\n",
        "    test_loss = running_loss / len(test_loaderr)\n",
        "    test_accuracy = accuracy_score(y_true_test, y_pred_test)\n",
        "    test_precision = precision_score(y_true_test, y_pred_test, average='macro', zero_division=0)\n",
        "    test_recall = recall_score(y_true_test, y_pred_test, average='macro', zero_division=0)\n",
        "    ttest_f1 = f1_score(y_true_test, y_pred_test, average='macro', zero_division=0)\n",
        "\n",
        "    print(f\"Epoch [{epoch + 1}/{num_epochs}], Test Loss: {test_loss:.4f}, Test Accuracy: {test_accuracy:.4f}, \"\n",
        "          f\"Test Precision: {test_precision:.4f}, Test Recall: {test_recall:.4f}, Test F1 Score: {test_f1:.4f}\")"
      ],
      "metadata": {
        "id": "RIb_65eLZlb3"
      },
      "execution_count": null,
      "outputs": []
    },
    {
      "cell_type": "code",
      "source": [
        "model = EfficientNetRNNModel(num_classes=len(class_names))\n",
        "model.load_state_dict(torch.load('/content/drive/MyDrive/Saved_Models/efficientnet_rnn_model.pth'))## '/content/drive/MyDrive/RNN_EffNet_Code/'\n",
        "model.eval()"
      ],
      "metadata": {
        "id": "d3kM6aTwtS4X"
      },
      "execution_count": null,
      "outputs": []
    }
  ]
}